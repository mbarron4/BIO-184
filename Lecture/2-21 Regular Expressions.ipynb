{
 "cells": [
  {
   "cell_type": "markdown",
   "metadata": {},
   "source": [
    "# Regular Expression\n",
    "is a technique to look for patterns in text mining"
   ]
  },
  {
   "cell_type": "code",
   "execution_count": 9,
   "metadata": {},
   "outputs": [],
   "source": [
    "#Import code package\n",
    "import re"
   ]
  },
  {
   "cell_type": "code",
   "execution_count": 6,
   "metadata": {},
   "outputs": [
    {
     "name": "stdout",
     "output_type": "stream",
     "text": [
      "['qwer\\n', 'tyui\\n', 'poas\\n', 'fghj\\n', 'kl;\\n', 'zxcv\\n', 'bnm,\\n', '1234\\n', '4567\\n', '7891\\n', '555-79-8765\\n', '555-75-7124\\n', 'ATCGCGAATTCAC\\n', 'CGATCGATGCTAGCTAGCTACGATCGATGCAGGTCCTCGATCATCGATCGATCG\\n', 'CGATCGATCGAGGACCTCGATCGATCGATCGATCGATCGATGGTCCCGATCGATCGATCGA\\n', 'GCATACGATCGATGCGGCCGATCATCGATCGATCGACTAGCTAGCTAGCTAGCTACGATGC\\n', 'TGCATAGCTACGATCGATCGCCGCGATCGATCGATCGTAGCATCGATCGATCGATCGATCGATCG\\n', 'ekrjg349\\n', 'rer9348\\n', 'ritj4598\\n', 'wer5498\\n']\n"
     ]
    }
   ],
   "source": [
    "#load file\n",
    "file_name = 'manyStrings.txt'\n",
    "file_handler = open(file_name)\n",
    "\n",
    "manyStrings =[] #initialize empty string\n",
    "for line in file_handler: #reading file_handler by line and each line is a element to a list. So readind file_handler as it was a list?\n",
    "    manyStrings.append(line)\n",
    "    \n",
    "file_handler.close()\n",
    "print(manyStrings)"
   ]
  },
  {
   "cell_type": "code",
   "execution_count": 5,
   "metadata": {},
   "outputs": [
    {
     "name": "stdout",
     "output_type": "stream",
     "text": [
      "['CGATCGATGCTAGCTAGCTACGATCGATGCAGGTCCTCGATCATCGATCGATCG\\n', 'CGATCGATCGAGGACCTCGATCGATCGATCGATCGATCGATGGTCCCGATCGATCGATCGA\\n', 'GCATACGATCGATGCGGCCGATCATCGATCGATCGACTAGCTAGCTAGCTAGCTACGATGC\\n', 'TGCATAGCTACGATCGATCGCCGCGATCGATCGATCGTAGCATCGATCGATCGATCGATCGATCG\\n']\n"
     ]
    }
   ],
   "source": [
    "#Searching: only printing the strings or in this sense the lines in the txt that contain 'GATC'\n",
    "\n",
    "#define (REGEX SIGNIFIES REGULAR EXPRESSION)\n",
    "regex = re.compile(r\"GATC\")\n",
    "results = list(filter(regex.search, manyStrings))\n",
    "print(results)"
   ]
  },
  {
   "cell_type": "code",
   "execution_count": 6,
   "metadata": {},
   "outputs": [
    {
     "name": "stdout",
     "output_type": "stream",
     "text": [
      "['CGATCGATGCTAGCTAGCTACGATCGATGCAGGTCCTCGATCATCGATCGATCG\\n', 'CGATCGATCGAGGACCTCGATCGATCGATCGATCGATCGATGGTCCCGATCGATCGATCGA\\n']\n"
     ]
    }
   ],
   "source": [
    "#Ava2 restriction enzyme cuts at two different motifs: GGACC OR GGTCC\n",
    "regex = re.compile(r\"GG(A|T)CC\")\n",
    "results = list(filter(regex.search, manyStrings))\n",
    "print(results)"
   ]
  },
  {
   "cell_type": "code",
   "execution_count": 7,
   "metadata": {},
   "outputs": [
    {
     "name": "stdout",
     "output_type": "stream",
     "text": [
      "['CGATCGATGCTAGCTAGCTACGATCGATGCAGGTCCTCGATCATCGATCGATCG\\n', 'CGATCGATCGAGGACCTCGATCGATCGATCGATCGATCGATGGTCCCGATCGATCGATCGA\\n']\n"
     ]
    }
   ],
   "source": [
    "#Bis1 restriction enzyme cuts at 4 different motifs: GCAGC,GCTGC,GCGGC,GCCGC\n",
    "regex = re.compile(r\"GG[ATGC]CC\")\n",
    "results = list(filter(regex.search, manyStrings))\n",
    "print(results)"
   ]
  },
  {
   "cell_type": "code",
   "execution_count": 8,
   "metadata": {},
   "outputs": [
    {
     "name": "stdout",
     "output_type": "stream",
     "text": [
      "['qwer\\n', 'tyui\\n', 'poas\\n', 'fghj\\n', 'kl;\\n', 'zxcv\\n', 'bnm,\\n', 'ekrjg349\\n', 'rer9348\\n', 'ritj4598\\n', 'wer5498\\n']\n"
     ]
    }
   ],
   "source": [
    "#Anchors\n",
    "#start with a letter\n",
    "regex = re.compile(r\"^[a-z]\") #looking at lines that start with a letter, hence ^\n",
    "results = list(filter(regex.search, manyStrings))\n",
    "print(results) "
   ]
  },
  {
   "cell_type": "code",
   "execution_count": 9,
   "metadata": {},
   "outputs": [
    {
     "name": "stdout",
     "output_type": "stream",
     "text": [
      "['1234\\n', '4567\\n', '7891\\n', '555-79-8765\\n', '555-75-7124\\n', 'ekrjg349\\n', 'rer9348\\n', 'ritj4598\\n', 'wer5498\\n']\n"
     ]
    }
   ],
   "source": [
    "#end with a number\n",
    "regex = re.compile(r\"[0-9]$\") #looking at lines that ends with a number, hence $\n",
    "results = list(filter(regex.search, manyStrings))\n",
    "print(results) "
   ]
  },
  {
   "cell_type": "code",
   "execution_count": 10,
   "metadata": {},
   "outputs": [
    {
     "name": "stdout",
     "output_type": "stream",
     "text": [
      "['ekrjg349\\n', 'rer9348\\n', 'ritj4598\\n', 'wer5498\\n']\n"
     ]
    }
   ],
   "source": [
    "#gene headers start with multiple letters and end with multiple numbers\n",
    "regex = re.compile(r\"^[a-z]+[0-9]+$\") #'+' means 'one or more'\n",
    "results = list(filter(regex.search, manyStrings))\n",
    "print(results) "
   ]
  },
  {
   "cell_type": "code",
   "execution_count": 12,
   "metadata": {},
   "outputs": [
    {
     "name": "stdout",
     "output_type": "stream",
     "text": [
      "['rer9348\\n', 'wer5498\\n']\n"
     ]
    }
   ],
   "source": [
    "#Quantifiers: to find headers that start with exactly 3 letters\n",
    "regex = re.compile(r\"^[a-z]{3}[0-9]+$\") #'+' means 'one or more'\n",
    "results = list(filter(regex.search, manyStrings))\n",
    "print(results) "
   ]
  },
  {
   "cell_type": "code",
   "execution_count": 12,
   "metadata": {},
   "outputs": [
    {
     "data": {
      "text/plain": [
       "['ATCGCGAATTCAC',\n",
       " 'CGATCGATGCTAGCTAGCTACGATCGATGCAGGTCCTCGATCATCGATCGATCG',\n",
       " 'CGATCGATCGAGGACCTCGATCGATCGATCGATCGATCGATGGTCCCGATCGATCGATCGA',\n",
       " 'GCATACGATCGATGCGGCCGATCATCGATCGATCGACTAGCTAGCTAGCTAGCTACGATGC',\n",
       " 'TGCATAGCTACGATCGATCGCCGCGATCGATCGATCGTAGCATCGATCGATCGATCGATCGATCG']"
      ]
     },
     "execution_count": 12,
     "metadata": {},
     "output_type": "execute_result"
    }
   ],
   "source": [
    "#This function will extract acceptable strings as 'DNA'\n",
    "#Input: s (list of strings)\n",
    "#Output: dna_strings (list of strings)\n",
    "\n",
    "#What does DNA look like? Long, same 4 letters repeating, no numbers, no punctuation\n",
    "dna_string = []\n",
    "def extract_dna(s):\n",
    "    regex = re.compile(r'^[atgcATGC]+$') #pattern ends, starts and has multiple nucleotides\n",
    "    results = list(filter(regex.search, manyStrings)) #remove newline '\\n'\n",
    "    \n",
    "    for lines in results:\n",
    "        dna_string.append(lines.rstrip())\n",
    "        \n",
    "    return dna_string\n",
    "\n",
    "extract_dna(manyStrings)\n"
   ]
  },
  {
   "cell_type": "code",
   "execution_count": null,
   "metadata": {},
   "outputs": [],
   "source": []
  }
 ],
 "metadata": {
  "kernelspec": {
   "display_name": "Python 3",
   "language": "python",
   "name": "python3"
  },
  "language_info": {
   "codemirror_mode": {
    "name": "ipython",
    "version": 3
   },
   "file_extension": ".py",
   "mimetype": "text/x-python",
   "name": "python",
   "nbconvert_exporter": "python",
   "pygments_lexer": "ipython3",
   "version": "3.6.4"
  }
 },
 "nbformat": 4,
 "nbformat_minor": 2
}
