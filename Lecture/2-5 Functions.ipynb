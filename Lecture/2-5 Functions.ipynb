{
 "cells": [
  {
   "cell_type": "code",
   "execution_count": 1,
   "metadata": {},
   "outputs": [
    {
     "name": "stdout",
     "output_type": "stream",
     "text": [
      "0.40625\n"
     ]
    }
   ],
   "source": [
    "# review of AT content\n",
    "dog_dna = 'ACTGCAGTCGTAGCTGACTGCTGCTGGCGCTA'\n",
    "DOG_AT = (dog_dna.count('A') + dog_dna.count('T'))/ len(dog_dna)\n",
    "print(DOG_AT)"
   ]
  },
  {
   "cell_type": "code",
   "execution_count": 2,
   "metadata": {},
   "outputs": [
    {
     "name": "stdout",
     "output_type": "stream",
     "text": [
      "0.42857142857142855\n"
     ]
    }
   ],
   "source": [
    "dog_dna1 = 'AATGCGCGTGCTGCTGCATGCATGATGC'\n",
    "DOG_AT2 = (dog_dna1.count('A') + dog_dna1.count('T'))/ len(dog_dna1)\n",
    "print(DOG_AT2)"
   ]
  },
  {
   "cell_type": "code",
   "execution_count": 4,
   "metadata": {},
   "outputs": [
    {
     "name": "stdout",
     "output_type": "stream",
     "text": [
      "0.40625\n",
      "0.42857142857142855\n"
     ]
    }
   ],
   "source": [
    "#general advice: if one needs to do something multiple times, write a function!\n",
    "#Define a function (note the 'def' and the colon (:))\n",
    "def calc_at(dna_string):\n",
    "    #'inside the function' lines are indented\n",
    "    at_content = (dna_string.count('A') + dna_string.count('T')) / len(dna_string)\n",
    "    #we should *return* the answer\n",
    "    return(at_content)\n",
    "#a function has ended once the indents have ended\n",
    "#to call a function, use its name and parenthesis\n",
    "#inside the parenthesis we input 'arguments'\n",
    "print(calc_at(dog_dna))\n",
    "print(calc_at(dog_dna1))"
   ]
  },
  {
   "cell_type": "code",
   "execution_count": 6,
   "metadata": {},
   "outputs": [
    {
     "name": "stdout",
     "output_type": "stream",
     "text": [
      "40.62\n",
      "42.86\n"
     ]
    }
   ],
   "source": [
    "#ADVICE: start writing a simple function first, and then improve it \n",
    "def calc_at(dna_string):\n",
    "    #'inside the function' lines are indented\n",
    "    at_content = (dna_string.count('A') + dna_string.count('T')) / len(dna_string)\n",
    "    #we should *return* the answer\n",
    "    return(round(at_content*100,2)) #making it a percentage and rounding the number to 2 decimals\n",
    "print(calc_at(dog_dna))\n",
    "print(calc_at(dog_dna1))"
   ]
  },
  {
   "cell_type": "code",
   "execution_count": 8,
   "metadata": {},
   "outputs": [
    {
     "name": "stdout",
     "output_type": "stream",
     "text": [
      "40.625\n",
      "42.85714\n"
     ]
    }
   ],
   "source": [
    "#We can input multiple arguments\n",
    "#For instance, to make functions flexible\n",
    "def calc_at(dna_string,roundto):\n",
    "    #'inside the function' lines are indented\n",
    "    at_content = (dna_string.count('A') + dna_string.count('T')) / len(dna_string)\n",
    "    #we should *return* the answer\n",
    "    return(round(at_content*100,roundto)) #making it a percentage and rounding the number to 2 decimals\n",
    "print(calc_at(dog_dna,3))\n",
    "print(calc_at(dog_dna1,5))"
   ]
  },
  {
   "cell_type": "code",
   "execution_count": 9,
   "metadata": {},
   "outputs": [
    {
     "name": "stdout",
     "output_type": "stream",
     "text": [
      "40.62\n",
      "42.85714\n"
     ]
    }
   ],
   "source": [
    "#ADVICE: use *default* arguments\n",
    "#Example: use default rounding to 2 decimal places\n",
    "def calc_at(dna_string,roundto = 2):\n",
    "    #'inside the function' lines are indented\n",
    "    at_content = (dna_string.count('A') + dna_string.count('T')) / len(dna_string)\n",
    "    #we should *return* the answer\n",
    "    return(round(at_content*100,roundto)) #making it a percentage and rounding the number to 2 decimals\n",
    "print(calc_at(dog_dna)) #If not specified, the default will be 2\n",
    "print(calc_at(dog_dna1,5))"
   ]
  },
  {
   "cell_type": "code",
   "execution_count": 10,
   "metadata": {},
   "outputs": [
    {
     "data": {
      "text/plain": [
       "0.0"
      ]
     },
     "execution_count": 10,
     "metadata": {},
     "output_type": "execute_result"
    }
   ],
   "source": [
    "small_dog = 'tgcatgcatggttgcatcaatcatgcagtactgactgactgacatcgtacgtctactagcatcacatca'\n",
    "calc_at(small_dog) #because there are no capital A's ot T's"
   ]
  },
  {
   "cell_type": "code",
   "execution_count": 12,
   "metadata": {},
   "outputs": [
    {
     "name": "stdout",
     "output_type": "stream",
     "text": [
      "55.07\n"
     ]
    }
   ],
   "source": [
    "#more adaptive, 'idiot proofing'\n",
    "def calc_at(dna_string,roundto = 2):\n",
    "    #chain of functions\n",
    "    at_content = (dna_string.upper().count('A') + dna_string.upper().count('T')) / len(dna_string)\n",
    "    return(round(at_content*100,roundto))\n",
    "print(calc_at(small_dog)) "
   ]
  },
  {
   "cell_type": "markdown",
   "metadata": {},
   "source": [
    "# INTERLUDE\n",
    "\n",
    "Python structures are heavily dependent on the groupings\n",
    "1. 'Strings are in quotation marks\n",
    "2. [lists, are, in, square, brackets]\n",
    "3. functions() use parenthesis"
   ]
  },
  {
   "cell_type": "code",
   "execution_count": 13,
   "metadata": {},
   "outputs": [
    {
     "name": "stdout",
     "output_type": "stream",
     "text": [
      "porque gritas? me duele!\n"
     ]
    }
   ],
   "source": [
    "# functions do not have to take arguments\n",
    "def shout():\n",
    "    print('porque gritas? me duele!')\n",
    "\n",
    "shout()"
   ]
  },
  {
   "cell_type": "code",
   "execution_count": 21,
   "metadata": {},
   "outputs": [],
   "source": [
    "#functions do not have to return a value\n",
    "def analyze_dna(dna_string, roundto = 2):\n",
    "    #This function will compute the length and AT content of the DNA \n",
    "    #Input: dna (string), accuracy (number)\n",
    "    #output: none (will print results)\n",
    "    \n",
    "    #main calculations\n",
    "    at_content = (dna_string.upper().count('A') + dna_string.upper().count('T')) / len(dna_string)\n",
    "    \n",
    "    #print results\n",
    "    print(dna_string)\n",
    "    print('Length: '+ len(dna_string))\n",
    "    print('Its AT-content is ' + at_content)\n",
    "    "
   ]
  },
  {
   "cell_type": "code",
   "execution_count": 22,
   "metadata": {},
   "outputs": [
    {
     "name": "stdout",
     "output_type": "stream",
     "text": [
      "tgcatgcatggttgcatcaatcatgcagtactgactgactgacatcgtacgtctactagcatcacatca\n"
     ]
    },
    {
     "ename": "TypeError",
     "evalue": "must be str, not int",
     "output_type": "error",
     "traceback": [
      "\u001b[1;31m---------------------------------------------------------------------------\u001b[0m",
      "\u001b[1;31mTypeError\u001b[0m                                 Traceback (most recent call last)",
      "\u001b[1;32m<ipython-input-22-bb04e66d3245>\u001b[0m in \u001b[0;36m<module>\u001b[1;34m()\u001b[0m\n\u001b[0;32m      1\u001b[0m \u001b[1;31m# test case\u001b[0m\u001b[1;33m\u001b[0m\u001b[1;33m\u001b[0m\u001b[0m\n\u001b[1;32m----> 2\u001b[1;33m \u001b[0manalyze_dna\u001b[0m\u001b[1;33m(\u001b[0m\u001b[0msmall_dog\u001b[0m\u001b[1;33m)\u001b[0m\u001b[1;33m\u001b[0m\u001b[0m\n\u001b[0m",
      "\u001b[1;32m<ipython-input-21-9443a172aee5>\u001b[0m in \u001b[0;36manalyze_dna\u001b[1;34m(dna_string, roundto)\u001b[0m\n\u001b[0;32m     10\u001b[0m     \u001b[1;31m#print results\u001b[0m\u001b[1;33m\u001b[0m\u001b[1;33m\u001b[0m\u001b[0m\n\u001b[0;32m     11\u001b[0m     \u001b[0mprint\u001b[0m\u001b[1;33m(\u001b[0m\u001b[0mdna_string\u001b[0m\u001b[1;33m)\u001b[0m\u001b[1;33m\u001b[0m\u001b[0m\n\u001b[1;32m---> 12\u001b[1;33m     \u001b[0mprint\u001b[0m\u001b[1;33m(\u001b[0m\u001b[1;34m'Length: '\u001b[0m\u001b[1;33m+\u001b[0m \u001b[0mlen\u001b[0m\u001b[1;33m(\u001b[0m\u001b[0mdna_string\u001b[0m\u001b[1;33m)\u001b[0m\u001b[1;33m)\u001b[0m\u001b[1;33m\u001b[0m\u001b[0m\n\u001b[0m\u001b[0;32m     13\u001b[0m     \u001b[0mprint\u001b[0m\u001b[1;33m(\u001b[0m\u001b[1;34m'Its AT-content is '\u001b[0m \u001b[1;33m+\u001b[0m \u001b[0mat_content\u001b[0m\u001b[1;33m)\u001b[0m\u001b[1;33m\u001b[0m\u001b[0m\n\u001b[0;32m     14\u001b[0m \u001b[1;33m\u001b[0m\u001b[0m\n",
      "\u001b[1;31mTypeError\u001b[0m: must be str, not int"
     ]
    }
   ],
   "source": [
    "# test case\n",
    "analyze_dna(small_dog)"
   ]
  },
  {
   "cell_type": "code",
   "execution_count": 19,
   "metadata": {},
   "outputs": [
    {
     "name": "stdout",
     "output_type": "stream",
     "text": [
      "tgcatgcatggttgcatcaatcatgcagtactgactgactgacatcgtacgtctactagcatcacatca\n",
      "Length: 69\n",
      "Its AT-content is 55.072463768115945%\n"
     ]
    }
   ],
   "source": [
    "#To avoid this error add a string\n",
    "def analyze_dna(dna_string, roundto = 2):\n",
    "    at_content = (dna_string.upper().count('A') + dna_string.upper().count('T')) *100/ len(dna_string)\n",
    "    \n",
    "    #print results\n",
    "    print(dna_string)\n",
    "    print('Length: '+ str(len(dna_string))) #To avoid error above malke number into a string, str()\n",
    "    print('Its AT-content is ' + str(at_content)+ '%')\n",
    "\n",
    "# test case\n",
    "analyze_dna(small_dog)\n",
    "    "
   ]
  },
  {
   "cell_type": "code",
   "execution_count": 20,
   "metadata": {},
   "outputs": [
    {
     "name": "stdout",
     "output_type": "stream",
     "text": [
      "The cow says moooo!\n",
      "The student says I forgot my scantron!\n",
      "The cat says woof woof\n"
     ]
    }
   ],
   "source": [
    "def speak(animal, sound = 'woof woof'):\n",
    "    print('The ' + animal + ' says ' + sound)\n",
    "    \n",
    "speak('cow', 'moooo!')\n",
    "speak('student','I forgot my scantron!')\n",
    "speak('cat') #will use default"
   ]
  },
  {
   "cell_type": "markdown",
   "metadata": {},
   "source": [
    "## Preview\n",
    "* Could we deal with different species in the same function?\n",
    "* What if we encounter an animal that is not listed?\n",
    "* What if there were multiple dogs?"
   ]
  },
  {
   "cell_type": "code",
   "execution_count": null,
   "metadata": {},
   "outputs": [],
   "source": []
  }
 ],
 "metadata": {
  "kernelspec": {
   "display_name": "Python 3",
   "language": "python",
   "name": "python3"
  },
  "language_info": {
   "codemirror_mode": {
    "name": "ipython",
    "version": 3
   },
   "file_extension": ".py",
   "mimetype": "text/x-python",
   "name": "python",
   "nbconvert_exporter": "python",
   "pygments_lexer": "ipython3",
   "version": "3.6.4"
  }
 },
 "nbformat": 4,
 "nbformat_minor": 2
}
