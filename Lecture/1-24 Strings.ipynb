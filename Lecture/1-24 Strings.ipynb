{
 "cells": [
  {
   "cell_type": "code",
   "execution_count": 1,
   "metadata": {},
   "outputs": [
    {
     "name": "stdout",
     "output_type": "stream",
     "text": [
      "Hello World\n"
     ]
    }
   ],
   "source": [
    "#Printing a basic statement\n",
    "print(\"Hello World\")"
   ]
  },
  {
   "cell_type": "code",
   "execution_count": 12,
   "metadata": {
    "scrolled": true
   },
   "outputs": [
    {
     "name": "stdout",
     "output_type": "stream",
     "text": [
      "Some of the main characters in the office are:\n",
      "Jim, \n",
      "Pam, \n",
      "Dwight,\n",
      "Michael\n",
      "\n",
      "Some of the other characters are: \n",
      "1 \t\t2 \t\t3 \t4\n",
      "Stanley, \tAngela, \tToby, \tOscar, \tetc.\n",
      "Bob vance introduces himself as \"Bob Vance, Vance Refrigeration\"\n",
      "This is a backlash: \\\n"
     ]
    }
   ],
   "source": [
    "#Printing using special characters\n",
    "print(\"Some of the main characters in the office are:\")\n",
    "print(\"Jim, \\nPam, \\nDwight,\\nMichael\") # \\n or \"backslash n\" is used to make a new line, hence names appear in a vertical list\n",
    "print(\"\")\n",
    "print(\"Some of the other characters are: \")\n",
    "print(\"1 \\t\\t2 \\t\\t3 \\t4\")\n",
    "print(\"Stanley, \\tAngela, \\tToby, \\tOscar, \\tetc.\") #\\t or \"backlash t\" is used to make a tab\n",
    "print(\"Bob vance introduces himself as \\\"Bob Vance, Vance Refrigeration\\\"\") #printing quotation marls with \\\"\n",
    "print(\"This is a backlash: \\\\\")"
   ]
  },
  {
   "cell_type": "code",
   "execution_count": 18,
   "metadata": {},
   "outputs": [
    {
     "name": "stdout",
     "output_type": "stream",
     "text": [
      "Dwight says, assistant regional manager\n",
      "Dwight's job is, assistant to the regional manager\n",
      "Dwight's job is, Assistant TO THE Regional Manager\n"
     ]
    }
   ],
   "source": [
    "#varaiables as strings\n",
    "part1 = \"assistant\"\n",
    "part2 = \"regional manager\"\n",
    "\n",
    "#Concatination (joining strings)\n",
    "print(\"Dwight says, \" + part1 +\" \"+ part2)\n",
    "\n",
    "clarification = \"to the\"\n",
    "print(\"Dwight's job is, \" + part1 + \" \" + clarification + \" \"+ part2)\n",
    "print(\"Dwight's job is, \" + part1.title() + \" \" + clarification.upper() + \" \" + part2.title()) #upper() captializes all letters, #title() capitalizes first letter in a word\n"
   ]
  },
  {
   "cell_type": "code",
   "execution_count": 20,
   "metadata": {},
   "outputs": [
    {
     "name": "stdout",
     "output_type": "stream",
     "text": [
      "Today's lesson was very easy.\n",
      "Today's lesson was hella easy!!\n"
     ]
    }
   ],
   "source": [
    "#String replacement: str.replace(old,new)\n",
    "so_cal = \"Today's lesson was very easy.\"\n",
    "nor_cal = so_cal.replace(\"very\", \"hella\") #replace() replaces old string with new string)\n",
    "nor_cal = nor_cal.replace(\".\", \"!\")\n",
    "print(so_cal)\n",
    "print(nor_cal + \"!\")"
   ]
  },
  {
   "cell_type": "code",
   "execution_count": 26,
   "metadata": {},
   "outputs": [
    {
     "name": "stdout",
     "output_type": "stream",
     "text": [
      "ATCGCTAGACCTGACCGATCGATCGATCTACGATGTACT 0.5128205128205128\n",
      "<class 'str'>\n",
      "<class 'float'>\n",
      "The AT content is 51.28205128205128 percent.\n"
     ]
    }
   ],
   "source": [
    "#AT Content: proportion of nucleotides that are \"A\" or \"T\"\n",
    "#  If two stands of DNA are similar, they should have similar porportions of nucleotides\n",
    "\n",
    "this_dna = \"atcgctagacctgaccgatcgatcgatctacgatgtact\"\n",
    "dna_sample = this_dna.upper()\n",
    "\n",
    "#Count the total number of A's and T's\n",
    "AT_content = dna_sample.count(\"A\") + dna_sample.count(\"T\")\n",
    "\n",
    "#Find the length of the string\n",
    "\n",
    "#Divide the count by the length of the string \n",
    "AT_content = AT_content / len(dna_sample)\n",
    "\n",
    "print(dna_sample, AT_content)\n",
    "AT_percent = 100 * AT_content\n",
    "\n",
    "#data types\n",
    "print(type(dna_sample))\n",
    "print(type(AT_percent))\n",
    "\n",
    "#str() changes type to a string (type casting)\n",
    "print(\"The AT content is \" + str(AT_percent) + \" percent.\") "
   ]
  }
 ],
 "metadata": {
  "kernelspec": {
   "display_name": "Python 3",
   "language": "python",
   "name": "python3"
  },
  "language_info": {
   "codemirror_mode": {
    "name": "ipython",
    "version": 3
   },
   "file_extension": ".py",
   "mimetype": "text/x-python",
   "name": "python",
   "nbconvert_exporter": "python",
   "pygments_lexer": "ipython3",
   "version": "3.7.1"
  }
 },
 "nbformat": 4,
 "nbformat_minor": 2
}
