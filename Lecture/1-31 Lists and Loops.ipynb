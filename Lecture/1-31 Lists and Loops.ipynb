{
 "cells": [
  {
   "cell_type": "code",
   "execution_count": 1,
   "metadata": {},
   "outputs": [
    {
     "name": "stdout",
     "output_type": "stream",
     "text": [
      "5\n",
      "Homer\n",
      "Marge\n"
     ]
    }
   ],
   "source": [
    "#A list is a group inside square brackets\n",
    "Simpsons = [\"Homer\", \"Marge\", \"Bart\", \"Lisa\", \"Maggie\"]\n",
    "\n",
    "#list length\n",
    "print(len(Simpsons))\n",
    "\n",
    "#indexing\n",
    "print(Simpsons[0])\n",
    "print(Simpsons[1])"
   ]
  },
  {
   "cell_type": "code",
   "execution_count": 2,
   "metadata": {},
   "outputs": [
    {
     "ename": "TypeError",
     "evalue": "can only concatenate str (not \"list\") to str",
     "output_type": "error",
     "traceback": [
      "\u001b[1;31m---------------------------------------------------------------------------\u001b[0m",
      "\u001b[1;31mTypeError\u001b[0m                                 Traceback (most recent call last)",
      "\u001b[1;32m<ipython-input-2-6f501c601fdb>\u001b[0m in \u001b[0;36m<module>\u001b[1;34m\u001b[0m\n\u001b[1;32m----> 1\u001b[1;33m \u001b[0mprint\u001b[0m\u001b[1;33m(\u001b[0m\u001b[1;34m'The chilren are '\u001b[0m \u001b[1;33m+\u001b[0m \u001b[0mSimpsons\u001b[0m\u001b[1;33m[\u001b[0m\u001b[1;36m2\u001b[0m\u001b[1;33m:\u001b[0m\u001b[1;33m]\u001b[0m\u001b[1;33m)\u001b[0m\u001b[1;33m\u001b[0m\u001b[1;33m\u001b[0m\u001b[0m\n\u001b[0m",
      "\u001b[1;31mTypeError\u001b[0m: can only concatenate str (not \"list\") to str"
     ]
    }
   ],
   "source": [
    "print('The chilren are ' + Simpsons[2:])"
   ]
  },
  {
   "cell_type": "code",
   "execution_count": 4,
   "metadata": {},
   "outputs": [
    {
     "name": "stdout",
     "output_type": "stream",
     "text": [
      "The chilren are ['Bart', 'Lisa', 'Maggie']\n"
     ]
    }
   ],
   "source": [
    "print('The chilren are ' + str(Simpsons[2:]))"
   ]
  },
  {
   "cell_type": "code",
   "execution_count": 5,
   "metadata": {},
   "outputs": [
    {
     "name": "stdout",
     "output_type": "stream",
     "text": [
      "['Homer', 'Marge', 'Bart', 'Lisa', 'Maggie', 'Grandpa']\n"
     ]
    }
   ],
   "source": [
    "#appending...adding an item to a list\n",
    "Simpsons.append('Grandpa')\n",
    "print(Simpsons)"
   ]
  },
  {
   "cell_type": "code",
   "execution_count": 7,
   "metadata": {},
   "outputs": [
    {
     "name": "stdout",
     "output_type": "stream",
     "text": [
      "Homer is a Simpson.\n",
      "Marge is a Simpson.\n",
      "Bart is a Simpson.\n",
      "Lisa is a Simpson.\n",
      "Maggie is a Simpson.\n",
      "Grandpa is a Simpson.\n"
     ]
    }
   ],
   "source": [
    "#for loops\n",
    "for person in Simpsons:\n",
    "    print(person + ' is a Simpson.')"
   ]
  },
  {
   "cell_type": "code",
   "execution_count": 8,
   "metadata": {},
   "outputs": [
    {
     "name": "stdout",
     "output_type": "stream",
     "text": [
      "['Grandpa', 'Maggie', 'Lisa', 'Bart', 'Marge', 'Homer']\n"
     ]
    }
   ],
   "source": [
    "#reversing a list\n",
    "Simpsons.reverse()\n",
    "print(Simpsons)"
   ]
  },
  {
   "cell_type": "code",
   "execution_count": 9,
   "metadata": {},
   "outputs": [
    {
     "name": "stdout",
     "output_type": "stream",
     "text": [
      "P is a Griffin\n",
      "e is a Griffin\n",
      "t is a Griffin\n",
      "e is a Griffin\n",
      "r is a Griffin\n",
      "  is a Griffin\n",
      "L is a Griffin\n",
      "o is a Griffin\n",
      "i is a Griffin\n",
      "s is a Griffin\n",
      "  is a Griffin\n",
      "C is a Griffin\n",
      "h is a Griffin\n",
      "r is a Griffin\n",
      "i is a Griffin\n",
      "s is a Griffin\n",
      "  is a Griffin\n",
      "M is a Griffin\n",
      "e is a Griffin\n",
      "g is a Griffin\n",
      "  is a Griffin\n",
      "S is a Griffin\n",
      "t is a Griffin\n",
      "e is a Griffin\n",
      "w is a Griffin\n",
      "i is a Griffin\n",
      "e is a Griffin\n",
      "  is a Griffin\n",
      "B is a Griffin\n",
      "r is a Griffin\n",
      "i is a Griffin\n",
      "a is a Griffin\n",
      "n is a Griffin\n"
     ]
    }
   ],
   "source": [
    "#a string is a list of individual characters\n",
    "FamilyGuy = 'Peter Lois Chris Meg Stewie Brian'\n",
    "for character in FamilyGuy:\n",
    "    print(character + ' is a Griffin')"
   ]
  },
  {
   "cell_type": "code",
   "execution_count": 12,
   "metadata": {},
   "outputs": [
    {
     "name": "stdout",
     "output_type": "stream",
     "text": [
      "Peter is a Griffin\n",
      "Lois is a Griffin\n",
      "Chris is a Griffin\n",
      "Meg is a Griffin\n",
      "Stewie is a Griffin\n",
      "Brian is a Griffin\n"
     ]
    }
   ],
   "source": [
    "#making a list of words by splitting at spaces\n",
    "FamilyGuyWords = FamilyGuy.split(' ')\n",
    "\n",
    "for character in FamilyGuyWords:\n",
    "    print(character + ' is a Griffin')"
   ]
  },
  {
   "cell_type": "code",
   "execution_count": 13,
   "metadata": {},
   "outputs": [
    {
     "data": {
      "text/plain": [
       "range(0, 5)"
      ]
     },
     "execution_count": 13,
     "metadata": {},
     "output_type": "execute_result"
    }
   ],
   "source": [
    "#Python ranges\n",
    "range(0,5)"
   ]
  },
  {
   "cell_type": "code",
   "execution_count": 14,
   "metadata": {},
   "outputs": [
    {
     "name": "stdout",
     "output_type": "stream",
     "text": [
      "0\n",
      "1\n",
      "2\n",
      "3\n",
      "4\n"
     ]
    }
   ],
   "source": [
    "#observe, starts at 0...does not include the 5\n",
    "for number in range(0,5):\n",
    "    print(number)\n",
    "#implied to start at zero when you say, for number in  range(5):"
   ]
  },
  {
   "cell_type": "code",
   "execution_count": 15,
   "metadata": {},
   "outputs": [
    {
     "name": "stdout",
     "output_type": "stream",
     "text": [
      "3\n",
      "4\n"
     ]
    }
   ],
   "source": [
    "#Can start anywhere\n",
    "for number in range(3,5):\n",
    "    print(number)"
   ]
  },
  {
   "cell_type": "code",
   "execution_count": 16,
   "metadata": {},
   "outputs": [
    {
     "name": "stdout",
     "output_type": "stream",
     "text": [
      "T\n",
      "G\n",
      "C\n",
      "A\n",
      "T\n",
      "C\n",
      "G\n",
      "T\n",
      "A\n",
      "G\n",
      "C\n",
      "T\n",
      "A\n",
      "G\n",
      "C\n",
      "A\n",
      "T\n",
      "C\n",
      "G\n",
      "T\n",
      "A\n",
      "C\n",
      "G\n"
     ]
    }
   ],
   "source": [
    "genome = 'TGCATCGTAGCTAGCATCGTACG'\n",
    "\n",
    "for nucleotide in genome:\n",
    "    print(nucleotide)"
   ]
  },
  {
   "cell_type": "code",
   "execution_count": 18,
   "metadata": {},
   "outputs": [
    {
     "name": "stdout",
     "output_type": "stream",
     "text": [
      "The 0 nucleotide is T\n",
      "The 1 nucleotide is G\n",
      "The 2 nucleotide is C\n",
      "The 3 nucleotide is A\n",
      "The 4 nucleotide is T\n",
      "The 5 nucleotide is C\n",
      "The 6 nucleotide is G\n",
      "The 7 nucleotide is T\n",
      "The 8 nucleotide is A\n",
      "The 9 nucleotide is G\n",
      "The 10 nucleotide is C\n",
      "The 11 nucleotide is T\n",
      "The 12 nucleotide is A\n",
      "The 13 nucleotide is G\n",
      "The 14 nucleotide is C\n",
      "The 15 nucleotide is A\n",
      "The 16 nucleotide is T\n",
      "The 17 nucleotide is C\n",
      "The 18 nucleotide is G\n",
      "The 19 nucleotide is T\n",
      "The 20 nucleotide is A\n",
      "The 21 nucleotide is C\n",
      "The 22 nucleotide is G\n"
     ]
    }
   ],
   "source": [
    "#goal...'in index 1 the nucleotide is 'C'.'\n",
    "for number in range(len(genome)):\n",
    "    print('The ' + str(number) + ' nucleotide is ' + genome[number])"
   ]
  },
  {
   "cell_type": "code",
   "execution_count": 19,
   "metadata": {},
   "outputs": [
    {
     "name": "stdout",
     "output_type": "stream",
     "text": [
      "Baby I'll be there...\n",
      "\n",
      "Esperando por tu amor\n",
      "\n",
      "\n",
      "\n",
      "(A ti como que se te olvida con quien tu estas hablando)\n",
      "\n",
      "\n",
      "\n",
      "Yo soy tu AMANTE, quien supo ensenarte.\n",
      "\n",
      "Fui el segundo en tu vida, pero el primero en amarte.\n",
      "\n",
      "Como es posible que me digas que lo amas cuando yo se que soy el dueno de tu cama.\n",
      "\n",
      "Yo soy tu AMANTE, quien supo ensenarte.\n",
      "\n",
      "De tu cuerpo yo conozco hasta la mas intima parte.\n",
      "\n",
      "Como es posible que me digas que lo amas cuando yo se que soy el dueno de tu cama.\n",
      "\n",
      "\n",
      "\n",
      "Cuando estabas afligida, en mi tu encontraste amor.\n",
      "\n",
      "Me creias capaz de los que romperian tu corazon.\n",
      "\n",
      "Junto a mi tus dias tristes volvieron a ver el sol, y ahora ty me dices que ha vuelto contigo amor.\n",
      "\n",
      "Y que lo quieres, lo amas y con el vas a casarte.\n",
      "\n",
      "Tratas de hacerme sufrir, para que un dia llegue a odiarte, pero mientras mas lo intentas, mi amor se hace mas grande.\n"
     ]
    }
   ],
   "source": [
    "#for loops to a load file one line at a time\n",
    "filehandler = open('Cancion.txt')\n",
    "for line in filehandler:\n",
    "    print(line.replace('maestro','AMANTE'))"
   ]
  },
  {
   "cell_type": "code",
   "execution_count": null,
   "metadata": {},
   "outputs": [],
   "source": []
  }
 ],
 "metadata": {
  "kernelspec": {
   "display_name": "Python 3",
   "language": "python",
   "name": "python3"
  },
  "language_info": {
   "codemirror_mode": {
    "name": "ipython",
    "version": 3
   },
   "file_extension": ".py",
   "mimetype": "text/x-python",
   "name": "python",
   "nbconvert_exporter": "python",
   "pygments_lexer": "ipython3",
   "version": "3.7.1"
  }
 },
 "nbformat": 4,
 "nbformat_minor": 2
}
