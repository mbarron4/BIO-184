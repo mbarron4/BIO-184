{
 "cells": [
  {
   "cell_type": "markdown",
   "metadata": {},
   "source": [
    "# Regular Expressions\n",
    "\n",
    "is a technique to look for patterns in text mining. "
   ]
  },
  {
   "cell_type": "code",
   "execution_count": 2,
   "metadata": {},
   "outputs": [],
   "source": [
    "# import code packages \n",
    "import re"
   ]
  },
  {
   "cell_type": "code",
   "execution_count": 4,
   "metadata": {},
   "outputs": [
    {
     "name": "stdout",
     "output_type": "stream",
     "text": [
      "['qwer\\n', 'tyui\\n', 'poas\\n', 'fghj\\n', 'kl;\\n', 'zxcv\\n', 'bnm,\\n', '1234\\n', '4567\\n', '7891\\n', '555-79-8765\\n', '555-75-7124\\n', 'ATCGCGAATTCAC\\n', 'CGATCGATGCTAGCTAGCTACGATCGATGCAGGTCCTCGATCATCGATCGATCG\\n', 'CGATCGATCGAGGACCTCGATCGATCGATCGATCGATCGATGGTCCCGATCGATCGATCGA\\n', 'GCATACGATCGATGCGGCCGATCATCGATCGATCGACTAGCTAGCTAGCTAGCTACGATGC\\n', 'TGCATAGCTACGATCGATCGCCGCGATCGATCGATCGTAGCATCGATCGATCGATCGATCGATCG\\n', 'ekrjg349\\n', 'rer9348\\n', 'ritj4598\\n', 'wer5498\\n']\n"
     ]
    }
   ],
   "source": [
    "# load file \n",
    "file_name = \"manyStrings.txt\"\n",
    "file_handler = open(file_name)\n",
    "\n",
    "manyStrings = []  # initiates empty list\n",
    "for line in file_handler:\n",
    "    manyStrings.append(line)\n",
    "    \n",
    "file_handler.close()\n",
    "\n",
    "print(manyStrings)"
   ]
  },
  {
   "cell_type": "code",
   "execution_count": 11,
   "metadata": {},
   "outputs": [
    {
     "name": "stdout",
     "output_type": "stream",
     "text": [
      "['GCATACGATCGATGCGGCCGATCATCGATCGATCGACTAGCTAGCTAGCTAGCTACGATGC\\n', 'TGCATAGCTACGATCGATCGCCGCGATCGATCGATCGTAGCATCGATCGATCGATCGATCGATCG\\n']\n"
     ]
    }
   ],
   "source": [
    "# Searching \n",
    "\n",
    "# define\n",
    "regex = re.compile(r\"GATC\")\n",
    "results = list(filter(regex.search, manyStrings))\n",
    "# print(results)  # Filters through list and only prints what you are looking for\n",
    "\n",
    "# AvaII restriction enzyme cuts at two different motifs: GGACC or GGTCC\n",
    "regex = re.compile(f\"GG(A|T)CC\")  # verticle line basicall saying \"A\" or \"T\", find in list \n",
    "results = list(filter(regex.search, manyStrings))\n",
    "#print(results)\n",
    "\n",
    "# BisI restriction enzyme cuts at 4 different motifs:\n",
    "# GCAGC, GCTGC, GCGGC, GCCGC\n",
    "regex = re.compile(r\"GC[ATGC]GC\")\n",
    "results = list(filter(regex.search, manyStrings))\n",
    "print(results)  # Goes through all strings in file for which strings would be cut by this enzyme, do they have the motifs"
   ]
  },
  {
   "cell_type": "code",
   "execution_count": 16,
   "metadata": {},
   "outputs": [
    {
     "name": "stdout",
     "output_type": "stream",
     "text": [
      "['ekrjg349\\n', 'rer9348\\n', 'ritj4598\\n', 'wer5498\\n']\n"
     ]
    }
   ],
   "source": [
    "# Anchors \n",
    "\n",
    "# Start with a letter\n",
    "regex = re.compile(r\"^[a-z]\")\n",
    "results = list(filter(regex.search, manyStrings))\n",
    "#print(results)  # prints any list with letters a-z\n",
    "\n",
    "# End with a number\n",
    "regex = re.compile(r\"[0-9]$\")  # add '$' to specifically look a the end of each string \n",
    "results = list(filter(regex.search, manyStrings))\n",
    "#print(results)\n",
    "\n",
    "# Gene headers start with multiple letters, and end with multiple numbers\n",
    "regex = re.compile(r\"^[a-z]+[0-9]+$\")  # starts (^) with one or more (+) letters and ends ($) with one or more (+) numbers\n",
    "results = list(filter(regex.search, manyStrings))\n",
    "print(results)"
   ]
  },
  {
   "cell_type": "code",
   "execution_count": 17,
   "metadata": {},
   "outputs": [
    {
     "name": "stdout",
     "output_type": "stream",
     "text": [
      "['rer9348\\n', 'wer5498\\n']\n"
     ]
    }
   ],
   "source": [
    "# Quantifiers\n",
    "\n",
    "# find headers that start with exactly 3 letters\n",
    "regex = re.compile(r\"^[a-z]{3}[0-9]+$\")  # if you want exactly 3 letters, it goes inside the curly brackets \n",
    "results = list(filter(regex.search, manyStrings))\n",
    "print(results)  # gives output of two genes that start with 3 letters and end with any number 0-9"
   ]
  },
  {
   "cell_type": "code",
   "execution_count": 19,
   "metadata": {},
   "outputs": [
    {
     "data": {
      "text/plain": [
       "['ATCGCGAATTCAC',\n",
       " 'CGATCGATGCTAGCTAGCTACGATCGATGCAGGTCCTCGATCATCGATCGATCG',\n",
       " 'CGATCGATCGAGGACCTCGATCGATCGATCGATCGATCGATGGTCCCGATCGATCGATCGA',\n",
       " 'GCATACGATCGATGCGGCCGATCATCGATCGATCGACTAGCTAGCTAGCTAGCTACGATGC',\n",
       " 'TGCATAGCTACGATCGATCGCCGCGATCGATCGATCGTAGCATCGATCGATCGATCGATCGATCG']"
      ]
     },
     "execution_count": 19,
     "metadata": {},
     "output_type": "execute_result"
    }
   ],
   "source": [
    "def extractDNA(s):\n",
    "    # This function will extract acceptable strings as \"DNA\"\n",
    "    # Input: s (list of strings)\n",
    "    # Output: dna_strings (list of strings)\n",
    "    \n",
    "    # pattern: starts with, ends with, and has multiple nucleotides\n",
    "    regex = re.compile(r\"^[atgcATGC]+$\")\n",
    "    results = list(filter(regex.search, manyStrings))\n",
    "    \n",
    "    # remove newline characters \"\\n\"\n",
    "    dna_strings = []  # have to initialize the list first\n",
    "    for line in results: \n",
    "        dna_strings.append(line.rstrip())\n",
    "        \n",
    "    return dna_strings\n",
    "\n",
    "extractDNA(manyStrings)"
   ]
  },
  {
   "cell_type": "code",
   "execution_count": 4,
   "metadata": {},
   "outputs": [
    {
     "name": "stdout",
     "output_type": "stream",
     "text": [
      "11\n",
      "16\n",
      "<_sre.SRE_Match object; span=(11, 16), match='GGACC'>\n"
     ]
    }
   ],
   "source": [
    "# Positions\n",
    "dna = \"CGATCGATCGAGGACCTCGATCGATCGATCGATCGATCGATGGTCCCGATCGATCGATCGAGGACC\"\n",
    "\n",
    "cut_site = re.search(r\"GG[A|T]CC\", dna)\n",
    "print(cut_site.start())\n",
    "print(cut_site.end())\n",
    "print(cut_site)"
   ]
  },
  {
   "cell_type": "code",
   "execution_count": 28,
   "metadata": {},
   "outputs": [
    {
     "name": "stdout",
     "output_type": "stream",
     "text": [
      "GGACC\n",
      "CGATCGATCGAG\n",
      "GACCTCGATCGATCGATCGATCGATCGATGGTCCCGATCGATCGATCGA\n"
     ]
    }
   ],
   "source": [
    "# Extractions\n",
    "\n",
    "print(dna[cut_site.start():cut_site.end()])\n",
    "\n",
    "# AvaII: G*GACC or G*GTCC\n",
    "# before cut \n",
    "print(dna[:cut_site.start() + 1])\n",
    "#after cut\n",
    "print(dna[cut_site.end() - 4:])"
   ]
  },
  {
   "cell_type": "code",
   "execution_count": 5,
   "metadata": {},
   "outputs": [
    {
     "name": "stdout",
     "output_type": "stream",
     "text": [
      "ATC\n",
      "ATC\n",
      "ATC\n",
      "ATC\n",
      "ATC\n",
      "ATC\n",
      "ATC\n",
      "ATC\n",
      "ATC\n",
      "ATC\n"
     ]
    }
   ],
   "source": [
    "# Multiple matches \n",
    "\n",
    "# Isoleucine codon: ATC\n",
    "results = re.findall(r\"ATC\", dna)\n",
    "for result in results:\n",
    "    print(result)"
   ]
  },
  {
   "cell_type": "code",
   "execution_count": null,
   "metadata": {},
   "outputs": [],
   "source": []
  }
 ],
 "metadata": {
  "kernelspec": {
   "display_name": "Python 3",
   "language": "python",
   "name": "python3"
  },
  "language_info": {
   "codemirror_mode": {
    "name": "ipython",
    "version": 3
   },
   "file_extension": ".py",
   "mimetype": "text/x-python",
   "name": "python",
   "nbconvert_exporter": "python",
   "pygments_lexer": "ipython3",
   "version": "3.6.4"
  }
 },
 "nbformat": 4,
 "nbformat_minor": 2
}
