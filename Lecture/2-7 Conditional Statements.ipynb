{
 "cells": [
  {
   "cell_type": "markdown",
   "metadata": {},
   "source": [
    "# Conditional Statements\n",
    "\n",
    "This is the beginning of machine learning (\"artificial intelligence\")"
   ]
  },
  {
   "cell_type": "code",
   "execution_count": 1,
   "metadata": {},
   "outputs": [
    {
     "name": "stdout",
     "output_type": "stream",
     "text": [
      "True\n",
      "False\n",
      "False\n",
      "True\n"
     ]
    }
   ],
   "source": [
    "# Boolean variables take values of 'True' or 'False'\n",
    "\n",
    "print(3<5)\n",
    "print(5>7)\n",
    "print(len('atcgatcgcgcgat')<=10) #Is the dna strand less than or equal to 10?\n",
    "print(184>=184)"
   ]
  },
  {
   "cell_type": "code",
   "execution_count": 3,
   "metadata": {},
   "outputs": [
    {
     "name": "stdout",
     "output_type": "stream",
     "text": [
      "True\n",
      "True\n"
     ]
    }
   ],
   "source": [
    "#To check if a variable has a certain value, use a DOUBLE equals sign\n",
    "print(len('Biology') == 7)\n",
    "print(len('Biology') != 9) #confirm that length is NOT 9. != equals NOT"
   ]
  },
  {
   "cell_type": "code",
   "execution_count": 4,
   "metadata": {},
   "outputs": [
    {
     "ename": "TypeError",
     "evalue": "'x' is an invalid keyword argument for this function",
     "output_type": "error",
     "traceback": [
      "\u001b[1;31m---------------------------------------------------------------------------\u001b[0m",
      "\u001b[1;31mTypeError\u001b[0m                                 Traceback (most recent call last)",
      "\u001b[1;32m<ipython-input-4-2dced42e4768>\u001b[0m in \u001b[0;36m<module>\u001b[1;34m()\u001b[0m\n\u001b[0;32m      1\u001b[0m \u001b[1;31m#Accidentally using only 1 equals sign can lead to errors\u001b[0m\u001b[1;33m\u001b[0m\u001b[1;33m\u001b[0m\u001b[0m\n\u001b[0;32m      2\u001b[0m \u001b[0mx\u001b[0m \u001b[1;33m=\u001b[0m \u001b[1;36m1337\u001b[0m\u001b[1;33m\u001b[0m\u001b[0m\n\u001b[1;32m----> 3\u001b[1;33m \u001b[0mprint\u001b[0m\u001b[1;33m(\u001b[0m\u001b[0mx\u001b[0m \u001b[1;33m=\u001b[0m \u001b[1;36m1727\u001b[0m\u001b[1;33m)\u001b[0m\u001b[1;33m\u001b[0m\u001b[0m\n\u001b[0m",
      "\u001b[1;31mTypeError\u001b[0m: 'x' is an invalid keyword argument for this function"
     ]
    }
   ],
   "source": [
    "#Accidentally using only 1 equals sign can lead to errors\n",
    "x = 1337\n",
    "print(x = 1727)"
   ]
  },
  {
   "cell_type": "code",
   "execution_count": 5,
   "metadata": {},
   "outputs": [],
   "source": [
    "#If statements \n",
    "units = 234\n",
    "if units <30: #if [condition]:\n",
    "    print('Freshman')\n",
    "#Nothing will print because units > 30"
   ]
  },
  {
   "cell_type": "code",
   "execution_count": 6,
   "metadata": {},
   "outputs": [
    {
     "name": "stdout",
     "output_type": "stream",
     "text": [
      "Freshman\n"
     ]
    }
   ],
   "source": [
    "units = 23\n",
    "if units <30: #if [condition]:\n",
    "    print('Freshman')"
   ]
  },
  {
   "cell_type": "code",
   "execution_count": 8,
   "metadata": {},
   "outputs": [
    {
     "name": "stdout",
     "output_type": "stream",
     "text": [
      "eukaryote\n"
     ]
    }
   ],
   "source": [
    "# If-Else statements\n",
    "hasnucleus = True #Boolean variable\n",
    "if hasnucleus:\n",
    "    print('eukaryote')\n",
    "else: \n",
    "    print('pokaryote')"
   ]
  },
  {
   "cell_type": "code",
   "execution_count": 9,
   "metadata": {},
   "outputs": [
    {
     "name": "stdout",
     "output_type": "stream",
     "text": [
      "pokaryote\n"
     ]
    }
   ],
   "source": [
    "hasnucleus = False #Boolean variable\n",
    "if hasnucleus:\n",
    "    print('eukaryote')\n",
    "else: \n",
    "    print('pokaryote')"
   ]
  },
  {
   "cell_type": "code",
   "execution_count": 10,
   "metadata": {},
   "outputs": [
    {
     "ename": "SyntaxError",
     "evalue": "invalid syntax (<ipython-input-10-d9948d1a1632>, line 5)",
     "output_type": "error",
     "traceback": [
      "\u001b[1;36m  File \u001b[1;32m\"<ipython-input-10-d9948d1a1632>\"\u001b[1;36m, line \u001b[1;32m5\u001b[0m\n\u001b[1;33m    else:\u001b[0m\n\u001b[1;37m       ^\u001b[0m\n\u001b[1;31mSyntaxError\u001b[0m\u001b[1;31m:\u001b[0m invalid syntax\n"
     ]
    }
   ],
   "source": [
    "#Be careful with indentation\n",
    "hasnucleus = False #Boolean variable\n",
    "if hasnucleus:\n",
    "    print('eukaryote')\n",
    "    else: \n",
    "        print('pokaryote')"
   ]
  },
  {
   "cell_type": "code",
   "execution_count": 12,
   "metadata": {},
   "outputs": [
    {
     "name": "stdout",
     "output_type": "stream",
     "text": [
      "prokaryote\n"
     ]
    }
   ],
   "source": [
    "# Multi-level decisions\n",
    "\n",
    "# tilda doesn't work and ! didn't work either\n",
    "hasnucleus = True\n",
    "numcells = 1337 #number of cells\n",
    "if ~hasnucleus: #if organism does not have a nucleus\n",
    "    print('prokaryote')\n",
    "else: \n",
    "    if numcells ==1:\n",
    "        print('single-celled eukaryote')\n",
    "    else:\n",
    "        print('multi-cellular eukaryote')"
   ]
  },
  {
   "cell_type": "code",
   "execution_count": 14,
   "metadata": {},
   "outputs": [
    {
     "name": "stdout",
     "output_type": "stream",
     "text": [
      "multi-cellular eukaryote\n"
     ]
    }
   ],
   "source": [
    "hasnucleus = True\n",
    "numcells = 1337 #number of cells\n",
    "if not hasnucleus: #if organism does not have a nucleus\n",
    "    print('prokaryote')\n",
    "else: \n",
    "    if numcells ==1:\n",
    "        print('single-celled eukaryote')\n",
    "    else:\n",
    "        print('multi-cellular eukaryote')"
   ]
  },
  {
   "cell_type": "code",
   "execution_count": 13,
   "metadata": {},
   "outputs": [
    {
     "name": "stdout",
     "output_type": "stream",
     "text": [
      "single-celled eukaryote\n"
     ]
    }
   ],
   "source": [
    "hasnucleus = True\n",
    "numcells = 1 #number of cells\n",
    "if not hasnucleus: #if organism does not have a nucleus\n",
    "    print('prokaryote')\n",
    "else: \n",
    "    if numcells ==1:\n",
    "        print('single-celled eukaryote')\n",
    "    else:\n",
    "        print('multi-cellular eukaryote')"
   ]
  },
  {
   "cell_type": "code",
   "execution_count": 15,
   "metadata": {},
   "outputs": [],
   "source": [
    "#Elif statements\n",
    "def class_id(units):\n",
    "    #classifies students as 'freshman', etc.\n",
    "    #Input: number of units\n",
    "    #output: label (string)\n",
    "    if units>= 90:\n",
    "        print('Senior')\n",
    "    elif units >= 60:\n",
    "        print('Junior')\n",
    "    elif units >= 30:\n",
    "        print('Sophomore')\n",
    "    else: #last chance is usually a plain 'else' to catch the rest\n",
    "        print('Freshman')"
   ]
  },
  {
   "cell_type": "code",
   "execution_count": 16,
   "metadata": {},
   "outputs": [
    {
     "name": "stdout",
     "output_type": "stream",
     "text": [
      "Senior\n",
      "Junior\n",
      "Sophomore\n",
      "Freshman\n"
     ]
    }
   ],
   "source": [
    "class_id(97)\n",
    "class_id(66)\n",
    "class_id(45)\n",
    "class_id(1)"
   ]
  },
  {
   "cell_type": "code",
   "execution_count": 17,
   "metadata": {},
   "outputs": [],
   "source": [
    "#Elif statements\n",
    "def class_id(units):\n",
    "    #classifies students as 'freshman', etc.\n",
    "    #Input: number of units\n",
    "    #output: label (string)\n",
    "    if units>= 90:\n",
    "        return 'Senior'\n",
    "    elif units >= 60:\n",
    "        return 'Junior'\n",
    "    elif units >= 30:\n",
    "        return 'Sophomore'\n",
    "    else: #last chance is usually a plain 'else' to catch the rest\n",
    "        return 'Freshman'"
   ]
  },
  {
   "cell_type": "code",
   "execution_count": 18,
   "metadata": {},
   "outputs": [],
   "source": [
    "# function checking is done with assert statements\n",
    "assert class_id(120) == 'Senior' # does nothing if True"
   ]
  },
  {
   "cell_type": "code",
   "execution_count": 19,
   "metadata": {},
   "outputs": [
    {
     "ename": "AssertionError",
     "evalue": "",
     "output_type": "error",
     "traceback": [
      "\u001b[1;31m---------------------------------------------------------------------------\u001b[0m",
      "\u001b[1;31mAssertionError\u001b[0m                            Traceback (most recent call last)",
      "\u001b[1;32m<ipython-input-19-1d999b34c3fa>\u001b[0m in \u001b[0;36m<module>\u001b[1;34m()\u001b[0m\n\u001b[1;32m----> 1\u001b[1;33m \u001b[1;32massert\u001b[0m \u001b[0mclass_id\u001b[0m\u001b[1;33m(\u001b[0m\u001b[1;36m120\u001b[0m\u001b[1;33m)\u001b[0m \u001b[1;33m==\u001b[0m \u001b[1;34m'Junior'\u001b[0m \u001b[1;31m#forces an error\u001b[0m\u001b[1;33m\u001b[0m\u001b[0m\n\u001b[0m",
      "\u001b[1;31mAssertionError\u001b[0m: "
     ]
    }
   ],
   "source": [
    "assert class_id(120) == 'Junior' #forces an error if False"
   ]
  },
  {
   "cell_type": "code",
   "execution_count": 23,
   "metadata": {},
   "outputs": [
    {
     "name": "stdout",
     "output_type": "stream",
     "text": [
      "count 10\n",
      "count 9\n",
      "count 8\n",
      "count 7\n",
      "count 6\n",
      "count 5\n",
      "count 4\n",
      "count 3\n",
      "count 2\n",
      "count 1\n",
      "DONE!\n"
     ]
    }
   ],
   "source": [
    "#while loops\n",
    "count = 10\n",
    "while count >= 0: #while [condition]\n",
    "    if count ==0:\n",
    "        print('DONE!')\n",
    "        break\n",
    "    else:\n",
    "        print('count '+ str(count))\n",
    "        count = count - 1 #decrement (Important!)"
   ]
  },
  {
   "cell_type": "code",
   "execution_count": null,
   "metadata": {},
   "outputs": [],
   "source": [
    "#Do not run this!\n",
    "#infinite loop, never stops\n",
    "count = 10\n",
    "while count >= 0: #while [condition]\n",
    "    if count ==0:\n",
    "        print('DONE!')\n",
    "        break\n",
    "    else:\n",
    "        print('count '+ str(count))\n",
    "        count = count + 1 #increment"
   ]
  },
  {
   "cell_type": "code",
   "execution_count": 25,
   "metadata": {},
   "outputs": [
    {
     "name": "stdout",
     "output_type": "stream",
     "text": [
      "ACTGTCGCATGCTAGTACGTAGCTGATGTGCATCACACACCACACACTGTGTG\n",
      "codonACT\n",
      "GTCGCATGCTAGTACGTAGCTGATGTGCATCACACACCACACACTGTGTG\n",
      "codonGTC\n",
      "GCATGCTAGTACGTAGCTGATGTGCATCACACACCACACACTGTGTG\n",
      "codonGCA\n",
      "TGCTAGTACGTAGCTGATGTGCATCACACACCACACACTGTGTG\n",
      "codonTGC\n",
      "TAGTACGTAGCTGATGTGCATCACACACCACACACTGTGTG\n",
      "codonTAG\n",
      "TACGTAGCTGATGTGCATCACACACCACACACTGTGTG\n",
      "codonTAC\n",
      "GTAGCTGATGTGCATCACACACCACACACTGTGTG\n",
      "codonGTA\n",
      "GCTGATGTGCATCACACACCACACACTGTGTG\n",
      "codonGCT\n",
      "GATGTGCATCACACACCACACACTGTGTG\n",
      "codonGAT\n",
      "GTGCATCACACACCACACACTGTGTG\n",
      "codonGTG\n",
      "CATCACACACCACACACTGTGTG\n",
      "codonCAT\n",
      "CACACACCACACACTGTGTG\n",
      "codonCAC\n",
      "ACACCACACACTGTGTG\n",
      "codonACA\n",
      "CCACACACTGTGTG\n",
      "codonCCA\n",
      "CACACTGTGTG\n",
      "codonCAC\n",
      "ACTGTGTG\n",
      "codonACT\n",
      "GTGTG\n",
      "codonGTG\n"
     ]
    }
   ],
   "source": [
    "dna = 'ACTGTCGCATGCTAGTACGTAGCTGATGTGCATCACACACCACACACTGTGTG'\n",
    "\n",
    "#trim off codons\n",
    "while len(dna) >= 3:\n",
    "    print(dna)\n",
    "    print('codon' + dna[0:3])\n",
    "    dna = dna[3:] #Trims away first three"
   ]
  },
  {
   "cell_type": "code",
   "execution_count": 26,
   "metadata": {},
   "outputs": [],
   "source": [
    "#boolean function (outputs True or False)\n",
    "eatsmeat = False\n",
    "eatsegg = True\n",
    "\n",
    "def isvegan(eatsmeat, eatsegg):\n",
    "    if eatsmeat:\n",
    "        return False\n",
    "    elif eatsegg:\n",
    "        return False\n",
    "    else:\n",
    "        return True\n",
    "    "
   ]
  },
  {
   "cell_type": "code",
   "execution_count": 27,
   "metadata": {},
   "outputs": [
    {
     "data": {
      "text/plain": [
       "True"
      ]
     },
     "execution_count": 27,
     "metadata": {},
     "output_type": "execute_result"
    }
   ],
   "source": [
    "#example\n",
    "isvegan(False, False)"
   ]
  },
  {
   "cell_type": "code",
   "execution_count": 28,
   "metadata": {},
   "outputs": [
    {
     "ename": "NameError",
     "evalue": "name 'doescrossfit' is not defined",
     "output_type": "error",
     "traceback": [
      "\u001b[1;31m---------------------------------------------------------------------------\u001b[0m",
      "\u001b[1;31mNameError\u001b[0m                                 Traceback (most recent call last)",
      "\u001b[1;32m<ipython-input-28-4165b7f9c2a5>\u001b[0m in \u001b[0;36m<module>\u001b[1;34m()\u001b[0m\n\u001b[0;32m      1\u001b[0m \u001b[1;31m#silly example\u001b[0m\u001b[1;33m\u001b[0m\u001b[1;33m\u001b[0m\u001b[0m\n\u001b[1;32m----> 2\u001b[1;33m \u001b[1;32mif\u001b[0m \u001b[0misvegan\u001b[0m \u001b[1;33m&\u001b[0m \u001b[0mdoescrossfit\u001b[0m\u001b[1;33m:\u001b[0m\u001b[1;33m\u001b[0m\u001b[0m\n\u001b[0m\u001b[0;32m      3\u001b[0m     \u001b[0mprint\u001b[0m\u001b[1;33m(\u001b[0m\u001b[1;34m'swipe left'\u001b[0m\u001b[1;33m)\u001b[0m\u001b[1;33m\u001b[0m\u001b[0m\n",
      "\u001b[1;31mNameError\u001b[0m: name 'doescrossfit' is not defined"
     ]
    }
   ],
   "source": [
    "#silly example\n",
    "if isvegan & doescrossfit:\n",
    "    print('swipe left')"
   ]
  },
  {
   "cell_type": "code",
   "execution_count": null,
   "metadata": {},
   "outputs": [],
   "source": []
  }
 ],
 "metadata": {
  "kernelspec": {
   "display_name": "Python 3",
   "language": "python",
   "name": "python3"
  },
  "language_info": {
   "codemirror_mode": {
    "name": "ipython",
    "version": 3
   },
   "file_extension": ".py",
   "mimetype": "text/x-python",
   "name": "python",
   "nbconvert_exporter": "python",
   "pygments_lexer": "ipython3",
   "version": "3.6.4"
  }
 },
 "nbformat": 4,
 "nbformat_minor": 2
}
