{
 "cells": [
  {
   "cell_type": "code",
   "execution_count": null,
   "metadata": {},
   "outputs": [],
   "source": [
    "# turning a mask\n",
    "mask_dilation = ndi.binary_dilation(mask_bone, iterations=5)\n",
    "mask closing = ndi.binary_closing(mask_bone, iterations = 5)\n",
    "\n",
    "#show masks\n",
    "fig.axes = plt.subplots(1,3)\n",
    "axes[0].imshow(mask_bone,cmap='gray')\n",
    "axes[1].imshow(mask_dilation,cmap='grey')\n",
    "axes[2].imshow(mask_closing,cmap='grey')\n",
    "plt.show()\n",
    "#apply \n",
    "im_bone_closing = np.where(mask_closing,im,0)\n",
    "plt.show(im_bone_closing,cmap='grey')\n",
    "plt.show()\n"
   ]
  },
  {
   "cell_type": "code",
   "execution_count": null,
   "metadata": {},
   "outputs": [],
   "source": [
    "# Edge detection\n",
    "#Sobel filter\n",
    "im = im.astype('int32') #some math formatting\n",
    "xs = ndi.sobel(im,axis=0) #looks for vertical edges\n",
    "ys = ndi.sobel(im,axis=1) #looks for horizontal edges\n",
    "edges = np.hypot(xs,ys) #Pythagorean Theorem\n",
    "\n",
    "#show images\n",
    "plt.imshow(edges,cmap='gray') #too dark make adjustments\n",
    "plt.imshow(edges,cmap='gray',vmax=75)\n",
    "plt.show()"
   ]
  },
  {
   "cell_type": "code",
   "execution_count": null,
   "metadata": {},
   "outputs": [],
   "source": [
    "#Summary\n",
    "fig,axes = plt.subplots(1,3)\n",
    "axes[0]= imshow(im,cmap='gray') #original x-ray\n",
    "axes[1]= imshow(im_bone,cmap='gray') #applied a mask\n",
    "axes[2]= imshow(edges,cmap='gray')\n",
    "#applied edge detection\n",
    "plt.show()"
   ]
  }
 ],
 "metadata": {
  "kernelspec": {
   "display_name": "Python 3",
   "language": "python",
   "name": "python3"
  },
  "language_info": {
   "codemirror_mode": {
    "name": "ipython",
    "version": 3
   },
   "file_extension": ".py",
   "mimetype": "text/x-python",
   "name": "python",
   "nbconvert_exporter": "python",
   "pygments_lexer": "ipython3",
   "version": "3.6.4"
  }
 },
 "nbformat": 4,
 "nbformat_minor": 2
}
