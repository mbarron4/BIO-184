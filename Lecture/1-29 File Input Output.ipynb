{
 "cells": [
  {
   "cell_type": "markdown",
   "metadata": {},
   "source": [
    "When loading these files, there are 3 things to consider;\n",
    "1. file name\n",
    "2. file handler\n",
    "3. file contents"
   ]
  },
  {
   "cell_type": "code",
   "execution_count": 1,
   "metadata": {},
   "outputs": [
    {
     "name": "stdout",
     "output_type": "stream",
     "text": [
      "<_io.TextIOWrapper name='1-29 Load.txt' mode='r' encoding='cp1252'>\n",
      "<class '_io.TextIOWrapper'>\n"
     ]
    }
   ],
   "source": [
    "#a file name is a string\n",
    "filename = \"1-29 Load.txt\"\n",
    "\n",
    "#to open a file\n",
    "filehandler = open( filename)\n",
    "\n",
    "print( filehandler)\n",
    "print(type( filehandler))"
   ]
  },
  {
   "cell_type": "code",
   "execution_count": 2,
   "metadata": {},
   "outputs": [
    {
     "name": "stdout",
     "output_type": "stream",
     "text": [
      "If you're reading this, you most likely succedded at loading this document\n"
     ]
    }
   ],
   "source": [
    "#to actually read the contents\n",
    "filecontents = filehandler.read( )\n",
    "print(filecontents)"
   ]
  },
  {
   "cell_type": "code",
   "execution_count": 3,
   "metadata": {},
   "outputs": [],
   "source": [
    "#good habit, close files when no longer needed\n",
    "filehandler.close( )"
   ]
  },
  {
   "cell_type": "code",
   "execution_count": 4,
   "metadata": {},
   "outputs": [
    {
     "name": "stdout",
     "output_type": "stream",
     "text": [
      " did\n"
     ]
    }
   ],
   "source": [
    "#indexing is how to select elements from a string, list, etc.\n",
    "#here is a made up silly string\n",
    "ss = \"I didn't know that it was going to rain today.\"\n",
    "\n",
    "#an attempt to look at the first five characters\n",
    "print(ss[1:5])\n"
   ]
  },
  {
   "cell_type": "code",
   "execution_count": 5,
   "metadata": {},
   "outputs": [
    {
     "name": "stdout",
     "output_type": "stream",
     "text": [
      "I did\n"
     ]
    }
   ],
   "source": [
    "#recall, python starts from index 0\n",
    "print(ss[0:5])"
   ]
  },
  {
   "cell_type": "code",
   "execution_count": 6,
   "metadata": {},
   "outputs": [
    {
     "name": "stdout",
     "output_type": "stream",
     "text": [
      "'t know that it was going to rain today.\n"
     ]
    }
   ],
   "source": [
    "#Sometimes we need to go to the end of a string\n",
    "sslength = len(ss)\n",
    "print(ss[6:sslength])"
   ]
  },
  {
   "cell_type": "code",
   "execution_count": 7,
   "metadata": {},
   "outputs": [
    {
     "name": "stdout",
     "output_type": "stream",
     "text": [
      "I didn'\n",
      " know that it was going to rain today.\n"
     ]
    }
   ],
   "source": [
    "#You can imply the beginning by omiting the first number\n",
    "print(ss[:7])\n",
    "\n",
    "#You can impy the end by omitting the last number\n",
    "print(ss[8:])"
   ]
  },
  {
   "cell_type": "code",
   "execution_count": 15,
   "metadata": {},
   "outputs": [
    {
     "name": "stdout",
     "output_type": "stream",
     "text": [
      "If you're reading this, you most likely succedded at loading this document... You were right, I successfully did\n"
     ]
    }
   ],
   "source": [
    "#recall concatentacion is performed with the plus sign\n",
    "print(filecontents + \"... You were right, I successfully did\")\n",
    "\n",
    "#to make an output file\n",
    "outputname = open(\"results.txt\", \"w\")\n",
    "outputname.write(\"This should be in the output file\")\n",
    "outputname.close()"
   ]
  },
  {
   "cell_type": "markdown",
   "metadata": {},
   "source": [
    "# File Permissions\n",
    "\n",
    "When opening and using files, there are file permissions;\n",
    "\n",
    "* \"r\"; read\n",
    "* \"w\"; write\n",
    "* \"rw\" or \"a\"; append\n",
    "\n",
    "\n"
   ]
  },
  {
   "cell_type": "code",
   "execution_count": 16,
   "metadata": {},
   "outputs": [],
   "source": [
    "#adding/appending more information to a file\n",
    "outputname = open(\"results.txt\", \"a\")\n",
    "outputname.write(\"\\n\")\n",
    "outputname.write(\"This should be in the output file\")\n",
    "outputname.close()"
   ]
  },
  {
   "cell_type": "markdown",
   "metadata": {},
   "source": [
    "# FASTA and FASTB Files\n",
    "\n",
    "In bioinformatics, information tends to be stored in FASTA files.\n",
    "\n",
    "FASTA;\n",
    "* DNA sequence\n",
    "* genome labels\n",
    "* genome abbreviations\n",
    "\n",
    "FASTB is FASTA with metadata such as;\n",
    "* when DNA was collected\n",
    "* quality of DNA scans (ex. \"We are 75 percent sure that the nucleotides are correct\")"
   ]
  },
  {
   "cell_type": "code",
   "execution_count": 19,
   "metadata": {},
   "outputs": [
    {
     "name": "stdout",
     "output_type": "stream",
     "text": [
      "ACGTACTGCAGCGTCGTAGTCATCCACTGTGATCG\n"
     ]
    }
   ],
   "source": [
    "filename = \"new DNA.fasta\"\n",
    "filehandler = open(filename)\n",
    "filecontents = filehandler.read()\n",
    "print(filecontents)\n",
    "filehandler.close()\n",
    "\n"
   ]
  },
  {
   "cell_type": "code",
   "execution_count": 21,
   "metadata": {},
   "outputs": [],
   "source": [
    "outputname = open(\"new DNA 2.fasta\", \"w\")\n",
    "outputname.write(\"fake DNA; \" + filecontents)\n",
    "outputname.close() "
   ]
  },
  {
   "cell_type": "code",
   "execution_count": null,
   "metadata": {},
   "outputs": [],
   "source": []
  }
 ],
 "metadata": {
  "kernelspec": {
   "display_name": "Python 3",
   "language": "python",
   "name": "python3"
  },
  "language_info": {
   "codemirror_mode": {
    "name": "ipython",
    "version": 3
   },
   "file_extension": ".py",
   "mimetype": "text/x-python",
   "name": "python",
   "nbconvert_exporter": "python",
   "pygments_lexer": "ipython3",
   "version": "3.6.4"
  }
 },
 "nbformat": 4,
 "nbformat_minor": 2
}
