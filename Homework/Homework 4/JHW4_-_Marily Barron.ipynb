{
 "cells": [
  {
   "cell_type": "markdown",
   "metadata": {},
   "source": [
    "# Bio 184 Homework 4\n",
    "## Marily Barron"
   ]
  },
  {
   "cell_type": "markdown",
   "metadata": {},
   "source": [
    "### Problem 1:\n",
    "Write a function that takes in a string representation of a DNA strand and outputs the complementary strand.  Any missing nucleotides should still be reported as missing.  For example, your code should turn “AC_GT” into “TG_CA”."
   ]
  },
  {
   "cell_type": "code",
   "execution_count": 14,
   "metadata": {},
   "outputs": [
    {
     "data": {
      "text/plain": [
       "'TAGCG'"
      ]
     },
     "execution_count": 14,
     "metadata": {},
     "output_type": "execute_result"
    }
   ],
   "source": [
    "def complementary(dna):\n",
    "    \"\"\"\n",
    "    Input: dna (string)\n",
    "    Output: complement (string), complementary sequence of the input sequence\n",
    "    \"\"\"\n",
    "    #base_dict is a dictionary where the keys are the nucleotide bases and the values are the key's base pair\n",
    "    base_dict = {'A':'T','T':'A', 'C':'G','G':'C', '_':'_'}\n",
    "    \n",
    "    complement = ''\n",
    "    for base in dna:\n",
    "        comp_base = base_dict[base] #for loop will look at every letter in dna and look up it's base pair in base_dict. \n",
    "        complement += comp_base #It also makes a string with the complement of the base.\n",
    "    return complement\n",
    "\n",
    "complementary('ATCGC')\n"
   ]
  },
  {
   "cell_type": "markdown",
   "metadata": {},
   "source": [
    "### Problem 2:\n",
    "The “DMgenes.txt” file contains 184 gene accession names for Drosophilla melanogaster. Use regular-expressions skills to extract the following subsets (separately):\n",
    "* starts with “CG”\n",
    "* ends with a number\n",
    "* is only 3 letters long\n",
    "* contains a dash (“-“)"
   ]
  },
  {
   "cell_type": "code",
   "execution_count": 16,
   "metadata": {},
   "outputs": [
    {
     "data": {
      "text/plain": [
       "184"
      ]
     },
     "execution_count": 16,
     "metadata": {},
     "output_type": "execute_result"
    }
   ],
   "source": [
    "#Loading the data\n",
    "names=[]\n",
    "filename = 'DMgenes.txt'\n",
    "with open(filename,'r') as f: #basically saying f = open(filename,'r')\n",
    "    for line in f:\n",
    "        line = line.rstrip() #Taking off new lines with rstrip()\n",
    "        names.append(line) #Adding gene names to array, names\n",
    "len(names) #Checking to see if there's 184 gene names"
   ]
  },
  {
   "cell_type": "code",
   "execution_count": 17,
   "metadata": {},
   "outputs": [],
   "source": [
    "import re #importing package for regular expressions"
   ]
  },
  {
   "cell_type": "code",
   "execution_count": 23,
   "metadata": {},
   "outputs": [
    {
     "name": "stdout",
     "output_type": "stream",
     "text": [
      "Names that start with CG (without using re): \n",
      "['CG17078', 'CG11279', 'CG5847', 'CG5840', 'CG14554', 'CG5295', 'CG17752', 'CG5626', 'CG13985', 'CG3032', 'CG13946', 'CG1444', 'CG4622', 'CG3394', 'CG4733', 'CG13655', 'CG3898', 'CG4688', 'CG5011', 'CG1193', 'CG9264', 'CG8216', 'CG7615', 'CG1783', 'CG4026', 'CG9304', 'CG14310', 'CG14739', 'CG10445', 'CG5804', 'CG2258', 'CG10542', 'CG14201', 'CG7742', 'CG7542', 'CG17855', 'CG9523', 'CG9368', 'CG1847', 'CG14690', 'CG10098', 'CG13380', 'CG2973', 'CG13831', 'CG14543', 'CG7342', 'CG17648', 'CG10483', 'CG15012', 'CG8060', 'CG11337', 'CG7443', 'CG15605', 'CG7456', 'CG4800', 'CG11523', 'CG18151', 'CG2183', 'CG18832', 'CG1397', 'CG14148', 'CG15904', 'CG8586', 'CG6290', 'CG14834', 'CG14752', 'CG7504', 'CG15503', 'CG5871', 'CG15478', 'CG14720', 'CG7694', 'CG14579', 'CG13728', 'CG15313', 'CG14085', 'CG14669', 'CG12349', 'CG13127', 'CG8952', 'CG7718', 'CG14605', 'CG14074', 'CG18184', 'CG17134', 'CG13811', 'CG4950', 'CG4784', 'CG10353', 'CG3950', 'CG14574', 'CG12882', 'CG9997', 'CG7112', 'CG8473', 'CG13492', 'CG11391', 'CG3337', 'CG11967', 'CG8237', 'CG4735', 'CG9269', 'CG12979', 'CG2816', 'CG3437', 'CG4818', 'CG14284', 'CG15458', 'CG9491', 'CG4774', 'CG8547', 'CG13770', 'CG5456', 'CG8157', 'CG10907', 'CG9657', 'CG3849', 'CG11486', 'CG18746', 'CG3042', 'CG15524', 'CG3446', 'CG8661', 'CG15146', 'CG17562', 'CG14177', 'CG12864', 'CG6554', 'CG8495', 'CG5483', 'CG14404', 'CG3108', 'CG6660', 'CG13188', 'CG17838', 'CG11007', 'CG14601', 'CG8311', 'CG1319']\n",
      " \n",
      "\n",
      "Names that start with CG (using regular expressions): \n",
      "['CG17078', 'CG11279', 'CG5847', 'CG5840', 'CG14554', 'CG5295', 'CG17752', 'CG5626', 'CG13985', 'CG3032', 'CG13946', 'CG1444', 'CG4622', 'CG3394', 'CG4733', 'CG13655', 'CG3898', 'CG4688', 'CG5011', 'CG1193', 'CG9264', 'CG8216', 'CG7615', 'CG1783', 'CG4026', 'CG9304', 'CG14310', 'CG14739', 'CG10445', 'CG5804', 'CG2258', 'CG10542', 'CG14201', 'CG7742', 'CG7542', 'CG17855', 'CG9523', 'CG9368', 'CG1847', 'CG14690', 'CG10098', 'CG13380', 'CG2973', 'CG13831', 'CG14543', 'CG7342', 'CG17648', 'CG10483', 'CG15012', 'CG8060', 'CG11337', 'CG7443', 'CG15605', 'CG7456', 'CG4800', 'CG11523', 'CG18151', 'CG2183', 'CG18832', 'CG1397', 'CG14148', 'CG15904', 'CG8586', 'CG6290', 'CG14834', 'CG14752', 'CG7504', 'CG15503', 'CG5871', 'CG15478', 'CG14720', 'CG7694', 'CG14579', 'CG13728', 'CG15313', 'CG14085', 'CG14669', 'CG12349', 'CG13127', 'CG8952', 'CG7718', 'CG14605', 'CG14074', 'CG18184', 'CG17134', 'CG13811', 'CG4950', 'CG4784', 'CG10353', 'CG3950', 'CG14574', 'CG12882', 'CG9997', 'CG7112', 'CG8473', 'CG13492', 'CG11391', 'CG3337', 'CG11967', 'CG8237', 'CG4735', 'CG9269', 'CG12979', 'CG2816', 'CG3437', 'CG4818', 'CG14284', 'CG15458', 'CG9491', 'CG4774', 'CG8547', 'CG13770', 'CG5456', 'CG8157', 'CG10907', 'CG9657', 'CG3849', 'CG11486', 'CG18746', 'CG3042', 'CG15524', 'CG3446', 'CG8661', 'CG15146', 'CG17562', 'CG14177', 'CG12864', 'CG6554', 'CG8495', 'CG5483', 'CG14404', 'CG3108', 'CG6660', 'CG13188', 'CG17838', 'CG11007', 'CG14601', 'CG8311', 'CG1319']\n"
     ]
    }
   ],
   "source": [
    "#Starts with 'CG'\n",
    "CGnames =[]\n",
    "for element in names: #for loop that appends the names that start with CG to CGnames\n",
    "    if element.startswith('CG'): #startswith() did the job\n",
    "        CGnames.append(element)\n",
    "print('Names that start with CG (without using re): \\n'+str(CGnames) + '\\n \\n')\n",
    "\n",
    "#OR \n",
    "\n",
    "CG = re.compile(r\"^CG\") #starts with CG\n",
    "results = list(filter(CG.search, names)) #Searched for names that start with CG in array, names.\n",
    "print('Names that start with CG (using regular expressions): \\n' + str(results))"
   ]
  },
  {
   "cell_type": "code",
   "execution_count": 26,
   "metadata": {},
   "outputs": [
    {
     "name": "stdout",
     "output_type": "stream",
     "text": [
      "Names that end with a number (without using re): \n",
      "['CG17078', 'fs(2)ltoPP43', 'Cyp4e3', 'CG11279', 'CG5847', 'CG5840', 'CG14554', 'CG5295', 'CG17752', 'CG5626', 'CG13985', 'CG3032', 'Mo25', 'CG13946', 'CG1444', 'CG4622', 'CG3394', 'CG4733', 'CG13655', 'CG3898', 'CG4688', 'CG5011', 'CG1193', 'Gr63F1', 'CG9264', 'CG8216', 'CG7615', 'CG1783', 'CG4026', 'CG9304', 'CG14310', 'Trxr-1', 'CG14739', 'CG10445', 'CG5804', 'CG2258', 'CG10542', 'CG14201', 'CG7742', 'CG7542', 'CG17855', 'CG9523', 'CG9368', 'CG1847', 'CG14690', 'Ank2', 'CG10098', 'CG13380', 'Mi-2', 'CG2973', 'CG13831', 'CG14543', 'CG7342', 'spt4', 'CG17648', 'CG10483', 'Lis1', 'CG15012', 'CG8060', 'CG11337', 'CG7443', 'CG15605', 'CG7456', 'CG4800', 'CG11523', 'CG18151', 'CG2183', 'CG18832', 'CG1397', 'CG14148', 'CG15904', 'CG8586', 'CG6290', 'CG14834', 'CG14752', 'CG7504', 'CG15503', 'CG5871', 'CG15478', 'CG14720', 'Mcm2', 'CG7694', 'CG14579', 'CG13728', 'CG15313', 'CG14085', 'CG14669', 'alpha-Est6', 'CG12349', 'CG13127', 'CG8952', 'CG7718', 'CG14605', 'CG14074', 'CG18184', 'CG17134', 'CG13811', 'CG4950', 'CG4784', 'CG10353', 'CG3950', 'CG14574', 'CG12882', 'CG9997', 'CG7112', 'CG8473', 'CG13492', 'CG11391', 'CG3337', 'CG11967', 'CG8237', 'CG4735', 'CG9269', 'CG12979', 'CG2816', 'CG3437', 'CG4818', 'CG14284', 'CG15458', 'CG9491', 'CG4774', 'CG8547', 'CG13770', 'CG5456', 'mRpS10', 'CG8157', 'CG10907', 'CG9657', 'CG3849', 'CG11486', 'CG18746', 'CG3042', 'CG15524', 'CG3446', 'CG8661', 'zen2', 'CG15146', 'CG17562', 'CG14177', 'CG12864', 'CG6554', 'CG8495', 'T-cp1', 'CG5483', 'CG14404', 'CG3108', 'CG6660', 'CG13188', 'CG17838', 'CG11007', 'CG14601', 'CG8311', 'CG1319']\n",
      " \n",
      "\n",
      "Names that end with a number (using regular expressions): \n",
      "['CG17078', 'fs(2)ltoPP43', 'Cyp4e3', 'CG11279', 'CG5847', 'CG5840', 'CG14554', 'CG5295', 'CG17752', 'CG5626', 'CG13985', 'CG3032', 'Mo25', 'CG13946', 'CG1444', 'CG4622', 'CG3394', 'CG4733', 'CG13655', 'CG3898', 'CG4688', 'CG5011', 'CG1193', 'Gr63F1', 'CG9264', 'CG8216', 'CG7615', 'CG1783', 'CG4026', 'CG9304', 'CG14310', 'Trxr-1', 'CG14739', 'CG10445', 'CG5804', 'CG2258', 'CG10542', 'CG14201', 'CG7742', 'CG7542', 'CG17855', 'CG9523', 'CG9368', 'CG1847', 'CG14690', 'Ank2', 'CG10098', 'CG13380', 'Mi-2', 'CG2973', 'CG13831', 'CG14543', 'CG7342', 'spt4', 'CG17648', 'CG10483', 'Lis1', 'CG15012', 'CG8060', 'CG11337', 'CG7443', 'CG15605', 'CG7456', 'CG4800', 'CG11523', 'CG18151', 'CG2183', 'CG18832', 'CG1397', 'CG14148', 'CG15904', 'CG8586', 'CG6290', 'CG14834', 'CG14752', 'CG7504', 'CG15503', 'CG5871', 'CG15478', 'CG14720', 'Mcm2', 'CG7694', 'CG14579', 'CG13728', 'CG15313', 'CG14085', 'CG14669', 'alpha-Est6', 'CG12349', 'CG13127', 'CG8952', 'CG7718', 'CG14605', 'CG14074', 'CG18184', 'CG17134', 'CG13811', 'CG4950', 'CG4784', 'CG10353', 'CG3950', 'CG14574', 'CG12882', 'CG9997', 'CG7112', 'CG8473', 'CG13492', 'CG11391', 'CG3337', 'CG11967', 'CG8237', 'CG4735', 'CG9269', 'CG12979', 'CG2816', 'CG3437', 'CG4818', 'CG14284', 'CG15458', 'CG9491', 'CG4774', 'CG8547', 'CG13770', 'CG5456', 'mRpS10', 'CG8157', 'CG10907', 'CG9657', 'CG3849', 'CG11486', 'CG18746', 'CG3042', 'CG15524', 'CG3446', 'CG8661', 'zen2', 'CG15146', 'CG17562', 'CG14177', 'CG12864', 'CG6554', 'CG8495', 'T-cp1', 'CG5483', 'CG14404', 'CG3108', 'CG6660', 'CG13188', 'CG17838', 'CG11007', 'CG14601', 'CG8311', 'CG1319']\n"
     ]
    }
   ],
   "source": [
    "#Ends with a number\n",
    "endswnumber = []\n",
    "nums = '0123456789' #string with numbers used in if loop\n",
    "for element in names:\n",
    "    if element[-1] in nums: #if the last index is a number then append to endswnumber\n",
    "        endswnumber.append(element)\n",
    "print('Names that end with a number (without using re): \\n'+str(endswnumber) + '\\n \\n')\n",
    "\n",
    "#OR \n",
    "\n",
    "numberend = re.compile(r\"[0-9]$\") #ends with a number\n",
    "results = list(filter(numberend.search, names)) #Searched for names that end with a number in array, names.\n",
    "print('Names that end with a number (using regular expressions): \\n' + str(results))"
   ]
  },
  {
   "cell_type": "code",
   "execution_count": 33,
   "metadata": {},
   "outputs": [
    {
     "name": "stdout",
     "output_type": "stream",
     "text": [
      "Names that are three letters long (without re): \n",
      "['hug', 'jim', 'Grd', 'Cys', 'bin', 'Mhc', 'nub', 'odd', 'dhd', 'sit', 'crb', 'CCS', 'nbs', 'Nca', 'PpV', 'tou', 'Ark']\n",
      " \n",
      "\n",
      "Names that are three letters long (using regular expressions): \n",
      "['hug', 'jim', 'Grd', 'Cys', 'bin', 'Mhc', 'nub', 'odd', 'dhd', 'sit', 'crb', 'CCS', 'nbs', 'Nca', 'PpV', 'tou', 'Ark']\n"
     ]
    }
   ],
   "source": [
    "#Three letters long\n",
    "threeletters = []\n",
    "for element in names:\n",
    "    #If length of the element in names is 3 then append to threeletters. This would fail if gene name were three numbers\n",
    "    if len(element) == 3: \n",
    "        threeletters.append(element)\n",
    "print('Names that are three letters long (without re): \\n' + str(threeletters) + '\\n \\n')\n",
    "\n",
    "#OR \n",
    "\n",
    "letters3 = re.compile(r\"^[A-Z, a-z]{3}$\") #three letters long\n",
    "results = list(filter(letters3.search, names)) #Searched for names that have three letters in array, names.\n",
    "print('Names that are three letters long (using regular expressions): \\n' + str(results))"
   ]
  },
  {
   "cell_type": "code",
   "execution_count": 36,
   "metadata": {},
   "outputs": [
    {
     "name": "stdout",
     "output_type": "stream",
     "text": [
      "Names that contain a dash (without re):  \n",
      "['Trxr-1', 'Mi-2', 'lectin-29Ca', 'alpha-Est6', 'T-cp1']\n",
      " \n",
      "\n",
      "Names that contain a dash (using regular expressions): \n",
      "['Trxr-1', 'Mi-2', 'lectin-29Ca', 'alpha-Est6', 'T-cp1']\n"
     ]
    }
   ],
   "source": [
    "#Contains a dash\n",
    "hasdash = []\n",
    "for element in names:\n",
    "    if '-' in element: #If element in names has a dash, then append to hasdash\n",
    "        hasdash.append(element)\n",
    "print('Names that contain a dash (without re):  \\n' + str(hasdash)+ '\\n \\n')\n",
    "\n",
    "#OR \n",
    "\n",
    "dashname = re.compile(r\"-\") #names with dash\n",
    "results = list(filter(dashname.search, names)) #Searched for names have a dash in array, names.\n",
    "print('Names that contain a dash (using regular expressions): \\n' + str(results))"
   ]
  },
  {
   "cell_type": "markdown",
   "metadata": {},
   "source": [
    "### Problem 3:\n",
    "Retrieve the sole example DNA sequence in “dna.txt”.  Predict the fragment lengths that we will obtain if we apply the following restriction enzymes (separately)\n",
    "* AvaII\n",
    "* BisI"
   ]
  },
  {
   "cell_type": "code",
   "execution_count": 37,
   "metadata": {},
   "outputs": [],
   "source": [
    "#Loading data\n",
    "data = open('dna.txt')\n",
    "dna =[] #initialize empty string\n",
    "for line in data: #reading file_handler by line and each line is a element to a list. So reading file_handler as it was a list?\n",
    "    dna.append(line.rstrip())\n",
    "data.close()"
   ]
  },
  {
   "cell_type": "code",
   "execution_count": 39,
   "metadata": {},
   "outputs": [
    {
     "name": "stdout",
     "output_type": "stream",
     "text": [
      "Fragment 1 has a length of 786\n",
      "Fragment 2 has a length of 335\n",
      "Fragment 3 has a length of 697\n",
      "Fragment 4 has a length of 194\n"
     ]
    }
   ],
   "source": [
    "#Ava2 restriction enzyme cuts at two different motifs: GGACC OR GGTCC\n",
    "cut_site1 = dna[0].replace('GGACC', 'G.GACC') #Looking fot first motif and markingthe cut site\n",
    "cut_site2 = cut_site1.replace('GGTCC', 'G.GTCC') #Looking for second motif and marking the cut site\n",
    "fragments = cut_site2.split('.') #looks for cut site and breaks dna into fragments\n",
    "\n",
    "for i in range(len(fragments)):\n",
    "    print('Fragment ' + str(i+1) + ' has a length of ' + str(len(fragments[i]))) #Printing the length of the fragments\n"
   ]
  },
  {
   "cell_type": "code",
   "execution_count": 40,
   "metadata": {},
   "outputs": [
    {
     "name": "stdout",
     "output_type": "stream",
     "text": [
      "Fragment 1 has a length of 294\n",
      "Fragment 2 has a length of 284\n",
      "Fragment 3 has a length of 521\n",
      "Fragment 4 has a length of 461\n",
      "Fragment 5 has a length of 159\n",
      "Fragment 6 has a length of 3\n",
      "Fragment 7 has a length of 55\n",
      "Fragment 8 has a length of 235\n"
     ]
    }
   ],
   "source": [
    "# BisI restriction enzyme cuts at 4 different motifs:\n",
    "# GCAGC, GCTGC, GCGGC, GCCGC\n",
    "#I'm not sure where Bis1 cuts, so I assumed it cuts after the first letter, G, like Ava2.\n",
    "motif = dna[0].replace('GCAGC', 'G.CAGC')\n",
    "motif = motif.replace('GCTGC', 'G.CTGC')\n",
    "motif = motif.replace('GCGGC', 'G.CGGC')\n",
    "motif = motif.replace('GCCGC', 'G.CCGC') #In this line all the motifs have been found and marked at the cut site\n",
    "fragments = motif.split('.')\n",
    "\n",
    "for i in range(len(fragments)):\n",
    "    print('Fragment ' + str(i+1) + ' has a length of ' + str(len(fragments[i])))"
   ]
  },
  {
   "cell_type": "markdown",
   "metadata": {},
   "source": [
    "### Problem 4:\n",
    "Write the function that translates DNA nucleotides (in groups of three) into codons (there are 64 permutations).  Note that this function is in the textbook or online; I simply want you to have a good copy of the function ready for future homework."
   ]
  },
  {
   "cell_type": "code",
   "execution_count": 45,
   "metadata": {},
   "outputs": [],
   "source": [
    "from itertools import takewhile\n",
    "\n",
    "def translate_dna(sequence, stop_codons = ('TAA', 'TGA', 'TAG')):       \n",
    "    start = sequence.find('ATG')\n",
    "    \n",
    "    #Dictionary for codons and their respective amino acids\n",
    "    codontable = {\n",
    "    'ATA':'I', 'ATC':'I', 'ATT':'I', 'ATG':'M',\n",
    "    'ACA':'T', 'ACC':'T', 'ACG':'T', 'ACT':'T',\n",
    "    'AAC':'N', 'AAT':'N', 'AAA':'K', 'AAG':'K',\n",
    "    'AGC':'S', 'AGT':'S', 'AGA':'R', 'AGG':'R',\n",
    "    'CTA':'L', 'CTC':'L', 'CTG':'L', 'CTT':'L',\n",
    "    'CCA':'P', 'CCC':'P', 'CCG':'P', 'CCT':'P',\n",
    "    'CAC':'H', 'CAT':'H', 'CAA':'Q', 'CAG':'Q',\n",
    "    'CGA':'R', 'CGC':'R', 'CGG':'R', 'CGT':'R',\n",
    "    'GTA':'V', 'GTC':'V', 'GTG':'V', 'GTT':'V',\n",
    "    'GCA':'A', 'GCC':'A', 'GCG':'A', 'GCT':'A',\n",
    "    'GAC':'D', 'GAT':'D', 'GAA':'E', 'GAG':'E',\n",
    "    'GGA':'G', 'GGC':'G', 'GGG':'G', 'GGT':'G',\n",
    "    'TCA':'S', 'TCC':'S', 'TCG':'S', 'TCT':'S',\n",
    "    'TTC':'F', 'TTT':'F', 'TTA':'L', 'TTG':'L',\n",
    "    'TAC':'Y', 'TAT':'Y', 'TAA':'_', 'TAG':'_',\n",
    "    'TGC':'C', 'TGT':'C', 'TGA':'_', 'TGG':'W',\n",
    "    }\n",
    "  \n",
    "    trimmed_sequence = sequence[start:] #trimming off sequence before the start codon\n",
    "\n",
    "    codons = [trimmed_sequence[i:i+3] for i in range(0, len(trimmed_sequence), 3)] #Splitting the trimmed sequence into an array with elements of three letters (codon)\n",
    "\n",
    "    # Take all codons until first stop codon\n",
    "    coding_sequence  =  takewhile(lambda x: x not in stop_codons and len(x) == 3 , codons) #Looking for stop codon, once found, it will end the sequence there\n",
    "\n",
    "    # Translate and join into string\n",
    "    protein_sequence = ''.join([codontable[codon] for codon in coding_sequence]) #Looking up the amino acid for a codon and adding it to a string\n",
    "\n",
    "    # This line assumes there is always stop codon in the sequence\n",
    "    return \"{0}_\".format(protein_sequence)"
   ]
  },
  {
   "cell_type": "code",
   "execution_count": 46,
   "metadata": {},
   "outputs": [
    {
     "data": {
      "text/plain": [
       "'MITN_'"
      ]
     },
     "execution_count": 46,
     "metadata": {},
     "output_type": "execute_result"
    }
   ],
   "source": [
    "sequence = 'ATGATAACAAAC'\n",
    "translate_dna(sequence)"
   ]
  },
  {
   "cell_type": "markdown",
   "metadata": {},
   "source": [
    "### Problem 5:\n",
    "Create a silly example of a Python dictionary.  Your example should have at least 4 (key, value) pairs."
   ]
  },
  {
   "cell_type": "code",
   "execution_count": 52,
   "metadata": {},
   "outputs": [
    {
     "name": "stdout",
     "output_type": "stream",
     "text": [
      "Line takes a form of f(x) = x\n",
      "Parabola takes a form of f(x) = x^2\n",
      "Circle centered at origin takes a form of f(x,y) = sqrt(x^2+y^2)\n",
      "Absolute function takes a form of f(x) = |x|\n"
     ]
    }
   ],
   "source": [
    "# Creating a dictionary \n",
    "# Defining keys and values \n",
    "dictionary ={\n",
    "    'Line':'f(x) = x',\n",
    "    'Parabola': 'f(x) = x^2',\n",
    "    'Circle centered at origin': 'f(x,y) = sqrt(x^2+y^2)',\n",
    "    'Absolute function':'f(x) = |x|'\n",
    "}\n",
    "\n",
    "# Iterating over the pairs\n",
    "for name,function in dictionary.items(): #dictionary.items() is a list of keys values in each element ex. [(key,value),(key,value),...]\n",
    "    print( name + \" takes a form of \" + function)"
   ]
  },
  {
   "cell_type": "code",
   "execution_count": null,
   "metadata": {},
   "outputs": [],
   "source": []
  }
 ],
 "metadata": {
  "kernelspec": {
   "display_name": "Python 3",
   "language": "python",
   "name": "python3"
  },
  "language_info": {
   "codemirror_mode": {
    "name": "ipython",
    "version": 3
   },
   "file_extension": ".py",
   "mimetype": "text/x-python",
   "name": "python",
   "nbconvert_exporter": "python",
   "pygments_lexer": "ipython3",
   "version": "3.6.4"
  }
 },
 "nbformat": 4,
 "nbformat_minor": 2
}
