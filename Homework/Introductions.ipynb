{
 "cells": [
  {
   "cell_type": "markdown",
   "metadata": {},
   "source": [
    "# Name: Marily Barron\n",
    "## Year: Senior\n",
    "### Major: Applied Mathematics w/ emphasis on Computational Biology\n",
    "\n",
    "#### My classes are \n",
    "* Math 150\n",
    "* Math 146\n",
    "* Econ 1\n",
    "* Bio 184\n",
    "\n",
    "#### Biology Fact\n",
    "* A biology fact that I find interesting is that the heart is not located on the right your right side. It is fouond near the middle of your chest.\n",
    "\n",
    "#### Why are you enrolled in Bio 184?  What are you hoping to learn and gain?  (Please supply an answer that is more in-depth than \"This course fulfills my elective requirement\".)\n",
    "* I'm enrolled in class to gain techniques in analyzing genomic data. I have an intership during the summer at JGI and it most likely will have genomic data. I enrolled in this class to boost my confidence a little in bioinformatics since I currently don't know much about the different techniques in bioinformatics.\n",
    "\n",
    "#### Spend about 5 minutes typing out your answer to \"What are you hopes and goals?\" as a bullet-point list.  Do not worry about grammar; just type fast.\n",
    "* I am hoping to go to graduate school after I graduate. \n",
    "* I am looking into bioinformatics, biostatistics, and biomedical informatics programs. \n",
    "* I still don't know what proffesion I want but I am leaning towards industry...perhaps a in a biotech company\n",
    "\n",
    "\n"
   ]
  },
  {
   "cell_type": "code",
   "execution_count": null,
   "metadata": {},
   "outputs": [],
   "source": []
  }
 ],
 "metadata": {
  "kernelspec": {
   "display_name": "Python 3",
   "language": "python",
   "name": "python3"
  },
  "language_info": {
   "codemirror_mode": {
    "name": "ipython",
    "version": 3
   },
   "file_extension": ".py",
   "mimetype": "text/x-python",
   "name": "python",
   "nbconvert_exporter": "python",
   "pygments_lexer": "ipython3",
   "version": "3.6.4"
  }
 },
 "nbformat": 4,
 "nbformat_minor": 2
}
