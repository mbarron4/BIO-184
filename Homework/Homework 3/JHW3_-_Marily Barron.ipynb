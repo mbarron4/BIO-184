{
 "cells": [
  {
   "cell_type": "markdown",
   "metadata": {},
   "source": [
    "# JHW 3\n",
    "## Marily Barron\n",
    "## Bio 184"
   ]
  },
  {
   "cell_type": "markdown",
   "metadata": {},
   "source": [
    "### Problem 1\n",
    "Write a function that converts a person’s name from a string to a last-name-first format.  For example, the function could read “Andalusia Basque Catalan” and then return “Catalan, Andalusia Basque”.  Test the function on your own name. \n"
   ]
  },
  {
   "cell_type": "code",
   "execution_count": 7,
   "metadata": {},
   "outputs": [],
   "source": [
    "def name(full_name): #defining the function (name) with an imput full_name\n",
    "    name_list = full_name.split(' ') #Splitting the full_name string into a list wherever there's a space\n",
    "    first_name = full_name[:len(full_name)-len(name_list[-1])] #looking for the first name by subtracting the length of the last name to the length of full_name\n",
    "    print(name_list[-1] + ', ' + first_name) #Printing in the desired format"
   ]
  },
  {
   "cell_type": "code",
   "execution_count": 9,
   "metadata": {},
   "outputs": [
    {
     "name": "stdout",
     "output_type": "stream",
     "text": [
      "Barron, Marily \n",
      "Catalan, Andalusia Basque \n"
     ]
    }
   ],
   "source": [
    "name('Marily Barron') #Testing my name\n",
    "name('Andalusia Basque Catalan') #Testing the example in the problem"
   ]
  },
  {
   "cell_type": "markdown",
   "metadata": {},
   "source": [
    "### Problem 2\n",
    "\n",
    "Write a function that takes two arguments – a protein sequence and a list of amino acid residue codes – and returns the percentage of the protein that the amino acids make.  If no list is given, the function should return the percentage (rounded to one decimal place) of hydrophobic amino acid residues (A, I, L, M, F, W, Y and V). Your function should pass the following assertions:\n",
    " * assert my_function(\"MSRSLLLRFLLFLLLLPPLP\", [\"M\"]) == 5\n",
    " * assert my_function(\"MSRSLLLRFLLFLLLLPPLP\", ['M', 'L']) == 55\n",
    " * assert my_function(\"MSRSLLLRFLLFLLLLPPLP\", ['F', 'S', 'L']) == 70\n",
    " * assert my_function(\"MSRSLLLRFLLFLLLLPPLP\") == 65"
   ]
  },
  {
   "cell_type": "code",
   "execution_count": 32,
   "metadata": {},
   "outputs": [],
   "source": [
    "def my_function(protein,amino_acid = ['A','I','L','M','F','W','Y','V']): #Defining function (my_function) with two inputs. The amino_acid input has been assigned a list of all the hydrophobic amino residues by default\n",
    "    summ = 0 #initializing what summ is to use it in the for loop\n",
    "    for i in range(len(amino_acid)): #making a for loop where i goes from 0 to the # of elements in the amino_acid list\n",
    "        summ = summ + protein.count(amino_acid[i]) #finding the sum of the targeted amino acids within the protein sequence\n",
    "    percentage = round(summ * 100/len(protein),1) #found the percentage of targeted amino acids in the protein sequence and rounded it to 1 decimal place\n",
    "    return(percentage) #using return function that way the assert function works"
   ]
  },
  {
   "cell_type": "code",
   "execution_count": 33,
   "metadata": {},
   "outputs": [],
   "source": [
    "#Asserting that my_function is woring perfectly\n",
    "assert my_function(\"MSRSLLLRFLLFLLLLPPLP\", [\"M\"]) == 5\n",
    "assert my_function(\"MSRSLLLRFLLFLLLLPPLP\", ['M', 'L']) == 55\n",
    "assert my_function(\"MSRSLLLRFLLFLLLLPPLP\", ['F', 'S', 'L']) == 70\n",
    "assert my_function(\"MSRSLLLRFLLFLLLLPPLP\") == 65"
   ]
  },
  {
   "cell_type": "markdown",
   "metadata": {},
   "source": [
    "### Problem 3\n",
    "Write a function that takes in a DNA sequence (as a string) and then prints on separate lines\n",
    " * The first 6 nucleuotides\n",
    " * The length of the DNA\n",
    " * The GC content"
   ]
  },
  {
   "cell_type": "code",
   "execution_count": 44,
   "metadata": {},
   "outputs": [],
   "source": [
    "def analysis_DNA(sequence):\n",
    "    print('First 6 nucleotides: ' + sequence[0:6]) \n",
    "    print('Length of DNA: ' + str(len(sequence))) #Don't forget to convert into a string\n",
    "    gc_content = (sequence.count('G') + sequence.count('C')) * 100/len(sequence)\n",
    "    print('GC content: ' + str(gc_content))"
   ]
  },
  {
   "cell_type": "code",
   "execution_count": 45,
   "metadata": {},
   "outputs": [
    {
     "name": "stdout",
     "output_type": "stream",
     "text": [
      "First 6 nucleotides: ATGCGC\n",
      "Length of DNA: 39\n",
      "GC content: 56.41025641025641\n"
     ]
    }
   ],
   "source": [
    "analysis_DNA('ATGCGCTGCTAGCTGCAGTCTGCATGCGTGTGTACCACA') #Proof that the code works"
   ]
  },
  {
   "cell_type": "markdown",
   "metadata": {},
   "source": [
    "### Problem 4\n",
    "In the homework folder, you'll find a text file called data.csv, containing some made-up data for a number of genes. Each line contains the following fields for a single gene in this order: species name, sequence, gene name, expression level. The fields are separated by commas (hence the name of the file – csv stands for Comma Separated Values). Think of it as a representation of a table in a spreadsheet – each line is a row, and each field in a line is a column. All the exercises for this chapter use the data read from this file."
   ]
  },
  {
   "cell_type": "code",
   "execution_count": 47,
   "metadata": {},
   "outputs": [],
   "source": [
    "# to work with csv files import pandas library\n",
    "import pandas as pd"
   ]
  },
  {
   "cell_type": "code",
   "execution_count": 48,
   "metadata": {
    "scrolled": true
   },
   "outputs": [
    {
     "data": {
      "text/html": [
       "<div>\n",
       "<style scoped>\n",
       "    .dataframe tbody tr th:only-of-type {\n",
       "        vertical-align: middle;\n",
       "    }\n",
       "\n",
       "    .dataframe tbody tr th {\n",
       "        vertical-align: top;\n",
       "    }\n",
       "\n",
       "    .dataframe thead th {\n",
       "        text-align: right;\n",
       "    }\n",
       "</style>\n",
       "<table border=\"1\" class=\"dataframe\">\n",
       "  <thead>\n",
       "    <tr style=\"text-align: right;\">\n",
       "      <th></th>\n",
       "      <th>0</th>\n",
       "      <th>1</th>\n",
       "      <th>2</th>\n",
       "      <th>3</th>\n",
       "    </tr>\n",
       "  </thead>\n",
       "  <tbody>\n",
       "    <tr>\n",
       "      <th>0</th>\n",
       "      <td>Drosophila melanogaster</td>\n",
       "      <td>atatatatatcgcgtatatatacgactatatgcattaattatagca...</td>\n",
       "      <td>kdy647</td>\n",
       "      <td>264</td>\n",
       "    </tr>\n",
       "    <tr>\n",
       "      <th>1</th>\n",
       "      <td>Drosophila melanogaster</td>\n",
       "      <td>actgtgacgtgtactgtacgactatcgatacgtagtactgatcgct...</td>\n",
       "      <td>jdg766</td>\n",
       "      <td>185</td>\n",
       "    </tr>\n",
       "    <tr>\n",
       "      <th>2</th>\n",
       "      <td>Drosophila simulans</td>\n",
       "      <td>atcgatcatgtcgatcgatgatgcatccgactatcgtcgatcgtga...</td>\n",
       "      <td>kdy533</td>\n",
       "      <td>485</td>\n",
       "    </tr>\n",
       "    <tr>\n",
       "      <th>3</th>\n",
       "      <td>Drosophila yakuba</td>\n",
       "      <td>cgcgcgctcgcgcatacggcctaatgcgcgcgctagcgatgc</td>\n",
       "      <td>hdt739</td>\n",
       "      <td>85</td>\n",
       "    </tr>\n",
       "    <tr>\n",
       "      <th>4</th>\n",
       "      <td>Drosophila ananassae</td>\n",
       "      <td>ttacgatcgatcgatcgatcgatcgtcgatcgtcgatgctacatcg...</td>\n",
       "      <td>hdu045</td>\n",
       "      <td>356</td>\n",
       "    </tr>\n",
       "    <tr>\n",
       "      <th>5</th>\n",
       "      <td>Drosophila ananassae</td>\n",
       "      <td>gcatcgatcgatcgcggcgcatcgatcgcgatcatcgatcatacgc...</td>\n",
       "      <td>teg436</td>\n",
       "      <td>222</td>\n",
       "    </tr>\n",
       "  </tbody>\n",
       "</table>\n",
       "</div>"
      ],
      "text/plain": [
       "                         0                                                  1  \\\n",
       "0  Drosophila melanogaster  atatatatatcgcgtatatatacgactatatgcattaattatagca...   \n",
       "1  Drosophila melanogaster  actgtgacgtgtactgtacgactatcgatacgtagtactgatcgct...   \n",
       "2      Drosophila simulans  atcgatcatgtcgatcgatgatgcatccgactatcgtcgatcgtga...   \n",
       "3        Drosophila yakuba         cgcgcgctcgcgcatacggcctaatgcgcgcgctagcgatgc   \n",
       "4     Drosophila ananassae  ttacgatcgatcgatcgatcgatcgtcgatcgtcgatgctacatcg...   \n",
       "5     Drosophila ananassae  gcatcgatcgatcgcggcgcatcgatcgcgatcatcgatcatacgc...   \n",
       "\n",
       "        2    3  \n",
       "0  kdy647  264  \n",
       "1  jdg766  185  \n",
       "2  kdy533  485  \n",
       "3  hdt739   85  \n",
       "4  hdu045  356  \n",
       "5  teg436  222  "
      ]
     },
     "execution_count": 48,
     "metadata": {},
     "output_type": "execute_result"
    }
   ],
   "source": [
    "#read_table can read csv files. We insert the file name w/ extension and separate information by finding the commas\n",
    "data = pd.read_table('data.csv', sep = ',', header = None) #Add header = None to have a header of numbers instead of the fist row as also the header\n",
    "#look at data table to see what I'm working with\n",
    "data"
   ]
  },
  {
   "cell_type": "code",
   "execution_count": 49,
   "metadata": {},
   "outputs": [
    {
     "data": {
      "text/plain": [
       "(6, 4)"
      ]
     },
     "execution_count": 49,
     "metadata": {},
     "output_type": "execute_result"
    }
   ],
   "source": [
    "#print the number of rows and columns\n",
    "data.shape"
   ]
  },
  {
   "cell_type": "code",
   "execution_count": 50,
   "metadata": {},
   "outputs": [
    {
     "data": {
      "text/html": [
       "<div>\n",
       "<style scoped>\n",
       "    .dataframe tbody tr th:only-of-type {\n",
       "        vertical-align: middle;\n",
       "    }\n",
       "\n",
       "    .dataframe tbody tr th {\n",
       "        vertical-align: top;\n",
       "    }\n",
       "\n",
       "    .dataframe thead th {\n",
       "        text-align: right;\n",
       "    }\n",
       "</style>\n",
       "<table border=\"1\" class=\"dataframe\">\n",
       "  <thead>\n",
       "    <tr style=\"text-align: right;\">\n",
       "      <th></th>\n",
       "      <th>specie names</th>\n",
       "      <th>sequence</th>\n",
       "      <th>gene name</th>\n",
       "      <th>expression level</th>\n",
       "    </tr>\n",
       "  </thead>\n",
       "  <tbody>\n",
       "    <tr>\n",
       "      <th>0</th>\n",
       "      <td>Drosophila melanogaster</td>\n",
       "      <td>atatatatatcgcgtatatatacgactatatgcattaattatagca...</td>\n",
       "      <td>kdy647</td>\n",
       "      <td>264</td>\n",
       "    </tr>\n",
       "    <tr>\n",
       "      <th>1</th>\n",
       "      <td>Drosophila melanogaster</td>\n",
       "      <td>actgtgacgtgtactgtacgactatcgatacgtagtactgatcgct...</td>\n",
       "      <td>jdg766</td>\n",
       "      <td>185</td>\n",
       "    </tr>\n",
       "    <tr>\n",
       "      <th>2</th>\n",
       "      <td>Drosophila simulans</td>\n",
       "      <td>atcgatcatgtcgatcgatgatgcatccgactatcgtcgatcgtga...</td>\n",
       "      <td>kdy533</td>\n",
       "      <td>485</td>\n",
       "    </tr>\n",
       "    <tr>\n",
       "      <th>3</th>\n",
       "      <td>Drosophila yakuba</td>\n",
       "      <td>cgcgcgctcgcgcatacggcctaatgcgcgcgctagcgatgc</td>\n",
       "      <td>hdt739</td>\n",
       "      <td>85</td>\n",
       "    </tr>\n",
       "    <tr>\n",
       "      <th>4</th>\n",
       "      <td>Drosophila ananassae</td>\n",
       "      <td>ttacgatcgatcgatcgatcgatcgtcgatcgtcgatgctacatcg...</td>\n",
       "      <td>hdu045</td>\n",
       "      <td>356</td>\n",
       "    </tr>\n",
       "  </tbody>\n",
       "</table>\n",
       "</div>"
      ],
      "text/plain": [
       "              specie names                                           sequence  \\\n",
       "0  Drosophila melanogaster  atatatatatcgcgtatatatacgactatatgcattaattatagca...   \n",
       "1  Drosophila melanogaster  actgtgacgtgtactgtacgactatcgatacgtagtactgatcgct...   \n",
       "2      Drosophila simulans  atcgatcatgtcgatcgatgatgcatccgactatcgtcgatcgtga...   \n",
       "3        Drosophila yakuba         cgcgcgctcgcgcatacggcctaatgcgcgcgctagcgatgc   \n",
       "4     Drosophila ananassae  ttacgatcgatcgatcgatcgatcgtcgatcgtcgatgctacatcg...   \n",
       "\n",
       "  gene name  expression level  \n",
       "0    kdy647               264  \n",
       "1    jdg766               185  \n",
       "2    kdy533               485  \n",
       "3    hdt739                85  \n",
       "4    hdu045               356  "
      ]
     },
     "execution_count": 50,
     "metadata": {},
     "output_type": "execute_result"
    }
   ],
   "source": [
    "# Updating with proper column names. (specie names, sequence, gene name, expression level)\n",
    "col_names = ['specie names', 'sequence', 'gene name', 'expression level']\n",
    "data.columns = col_names\n",
    "data.head() #Print out the first 5rows"
   ]
  },
  {
   "cell_type": "markdown",
   "metadata": {},
   "source": [
    " * Print out the gene names for all genes belonging to Drosophila melanogaster or Drosophila simulans."
   ]
  },
  {
   "cell_type": "code",
   "execution_count": 53,
   "metadata": {},
   "outputs": [
    {
     "name": "stdout",
     "output_type": "stream",
     "text": [
      "['kdy647' 'jdg766' 'kdy533']\n"
     ]
    }
   ],
   "source": [
    "#store only data if the specie is Drosophila melanogaster or Drosophila simulans\n",
    "temp = data[(data['specie names'] == 'Drosophila melanogaster') | (data['specie names'] == 'Drosophila simulans')] # | signifies or\n",
    "    #temp is a dataset containin only the two species\n",
    "#print gene names\n",
    "print(temp['gene name'].values) #values gives you the elements inside an array"
   ]
  },
  {
   "cell_type": "markdown",
   "metadata": {},
   "source": [
    " * Print out the gene names for all genes between 85 and 105 bases long."
   ]
  },
  {
   "cell_type": "code",
   "execution_count": 55,
   "metadata": {},
   "outputs": [
    {
     "name": "stdout",
     "output_type": "stream",
     "text": [
      "['hdt739']\n"
     ]
    }
   ],
   "source": [
    "#stores data into temp1 if the two conditions are satisfies\n",
    "temp1 = data[(data['expression level'] >= 85) & (data['expression level'] <= 105)]\n",
    "#Prints the gene name that satisfies the two conditions\n",
    "print(temp1['gene name'].values) "
   ]
  },
  {
   "cell_type": "markdown",
   "metadata": {},
   "source": [
    "* Print out the gene names for all genes whose GC content is less than 0.5 and whose expression level is greater than 200."
   ]
  },
  {
   "cell_type": "code",
   "execution_count": 64,
   "metadata": {},
   "outputs": [],
   "source": [
    "genes_interested = [] #stores rhe names of genes\n",
    "for i in range(len(data['sequence'])): #for loop where i is from 0 to the # of rows in data\n",
    "    seq = data['sequence'].values[i] #getting the sequnce in the ith specie\n",
    "    gc = (seq.count('g') + seq.count('c'))/ len(seq) #computing gc content\n",
    "    expression = data['expression level'].values[i] #storing the expression level for the ith specie into a variable\n",
    "    if (gc < .5) and (expression > 200): #looking for conditions to be satisfied\n",
    "        genes_interested.append(data['gene name'].values[i]) #adding an element to the genes_interested list"
   ]
  },
  {
   "cell_type": "code",
   "execution_count": 65,
   "metadata": {},
   "outputs": [
    {
     "name": "stdout",
     "output_type": "stream",
     "text": [
      "['kdy647', 'kdy533', 'hdu045']\n"
     ]
    }
   ],
   "source": [
    "print(genes_interested)"
   ]
  },
  {
   "cell_type": "markdown",
   "metadata": {},
   "source": [
    "* Print out the gene names for all genes whose name begins with \"k\" or \"h\" except those belonging to Drosophila melanogaster."
   ]
  },
  {
   "cell_type": "code",
   "execution_count": 83,
   "metadata": {},
   "outputs": [
    {
     "name": "stdout",
     "output_type": "stream",
     "text": [
      "['kdy533', 'hdt739', 'hdu045']\n"
     ]
    }
   ],
   "source": [
    "#stores data into temp2 if the specie name is not Drosophila melanogaster\n",
    "temp2 = data[(data['specie names'] != 'Drosophila melanogaster')] #! is like saying not\n",
    "#Adding a for loop to make a list of the gene names that start with an h or k\n",
    "kh_genes = [] #initializing the list\n",
    "for i in range(len(temp2['gene name'])):\n",
    "    if (temp2['gene name'].values[i][0] == 'k') or (temp2['gene name'].values[i][0] == 'h'):\n",
    "        kh_genes.append(temp2['gene name'].values[i]) #adding the gene names that satisfy either of the two conditions\n",
    "#printing the genes\n",
    "print(kh_genes)"
   ]
  },
  {
   "cell_type": "markdown",
   "metadata": {},
   "source": [
    "* For each gene, print out a message giving the gene name and saying whether its GC content is high (greater than 0.65), low (less than 0.45) or medium (between 0.45 and 0.65)."
   ]
  },
  {
   "cell_type": "code",
   "execution_count": 88,
   "metadata": {},
   "outputs": [
    {
     "name": "stdout",
     "output_type": "stream",
     "text": [
      "GC content for kdy647 is low\n",
      "GC content for jdg766 is low\n",
      "GC content for kdy533 is medium\n",
      "GC content for hdt739 is high\n",
      "GC content for hdu045 is medium\n",
      "GC content for teg436 is medium\n"
     ]
    }
   ],
   "source": [
    "#using a for loop and nested else if loop to perform the task\n",
    "for i in range(len(data['sequence'])):\n",
    "    gc = (data['sequence'].values[i].count('g') + data['sequence'].values[i].count('c'))/ len(data['sequence'].values[i]) #computing gc content\n",
    "    if (gc >= .65):\n",
    "        print('GC content for ' + data['gene name'].values[i]+ ' is high')\n",
    "    elif (gc <= .45):\n",
    "        print('GC content for ' + data['gene name'].values[i]+ ' is low')\n",
    "    else: \n",
    "        print('GC content for ' + data['gene name'].values[i]+ ' is medium')"
   ]
  },
  {
   "cell_type": "markdown",
   "metadata": {},
   "source": [
    "### Problem 5\n",
    "Create a silly example of a decision-making process and type up an if-then-else statement for that process.  Your example needs to include at least two Boolean statements.  (This code does not have to actually run; you may comment out this code block.)"
   ]
  },
  {
   "cell_type": "code",
   "execution_count": 3,
   "metadata": {},
   "outputs": [
    {
     "name": "stdout",
     "output_type": "stream",
     "text": [
      "I'm fine with it\n"
     ]
    }
   ],
   "source": [
    "skirt = False\n",
    "dress = False\n",
    "if skirt:\n",
    "    print('I am not going to wear a skirt')\n",
    "elif dress:\n",
    "    print('I am not going to wear a dress')\n",
    "else:\n",
    "    print('I\\'m fine with it')"
   ]
  }
 ],
 "metadata": {
  "kernelspec": {
   "display_name": "Python 3",
   "language": "python",
   "name": "python3"
  },
  "language_info": {
   "codemirror_mode": {
    "name": "ipython",
    "version": 3
   },
   "file_extension": ".py",
   "mimetype": "text/x-python",
   "name": "python",
   "nbconvert_exporter": "python",
   "pygments_lexer": "ipython3",
   "version": "3.6.4"
  }
 },
 "nbformat": 4,
 "nbformat_minor": 2
}
