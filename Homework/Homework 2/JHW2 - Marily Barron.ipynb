{
 "cells": [
  {
   "cell_type": "markdown",
   "metadata": {},
   "source": [
    "# Jupyter Homework 2\n",
    "## Marily Barron\n",
    "### BIO 184\n",
    "\n",
    "#### Restriction fragment lengths.  \n",
    "* Here's a short DNA sequence:\n",
    "ACTGATCGATTACGTATAGTAGAATTCTATCATACATATATATCGATGCGTTCAT\n",
    "The sequence contains a recognition site for the EcoRI restriction enzyme, which cuts at the motif G*AATTC (the position of the cut is indicated by an asterisk). Write a program which will calculate the size of the two fragments that will be produced when the DNA sequence is digested with EcoRI.\n"
   ]
  },
  {
   "cell_type": "code",
   "execution_count": 51,
   "metadata": {},
   "outputs": [
    {
     "name": "stdout",
     "output_type": "stream",
     "text": [
      "The sequence will be split into two strands, one with a length of 22 and the other with a length of 33\n"
     ]
    }
   ],
   "source": [
    "sequence = \"ACTGATCGATTACGTATAGTAGAATTCTATCATACATATATATCGATGCGTTCAT\"\n",
    "#Find the sequence and add a period at the cut\n",
    "sequence1 = sequence.replace('GAATTC', 'G.AATTC')\n",
    "#Find the site of the cut and cut it\n",
    "sequence2 = sequence1.split('.')\n",
    "#Printing the results. \n",
    "print('The sequence will be split into two strands, one with a length of ' + str(len(sequence2[0])) + ' and the other with a length of '+ str(len(sequence2[1])))\n"
   ]
  },
  {
   "cell_type": "markdown",
   "metadata": {},
   "source": [
    "#### Splicing out introns.  \n",
    "* Here is a short section of genomic DNA:\n",
    "ATCGATCGATCGATCGACTGACTAGTCATAGCTATGCATGTAGCTACTCGATCGATCGATCGATCGATCGATCGATCGATCGATCATGCTATCATCGATCGATATCGATGCATCGACTACTAT\n",
    "It comprises two exons and an intron. The first exon runs from the start of the sequence to the sixty-third character, and the second exon runs from the ninety-first character to the end of the sequence.\n",
    "\n",
    "We will fulfill these next tasks\n",
    "1. Calculate the CG-content of the sequence with Python code.\n",
    "2. Write Python code that will print just the coding regions of the DNA sequence.\n",
    "3. Write Python code that will calculate what percentage of the DNA sequence is coding.\n",
    "4. Write Python code that will print out the original genomic DNA sequence with coding bases in uppercase and non-coding bases in lowercase.\n"
   ]
  },
  {
   "cell_type": "code",
   "execution_count": 52,
   "metadata": {},
   "outputs": [
    {
     "name": "stdout",
     "output_type": "stream",
     "text": [
      "Content of CG in the sequence is 44.71544715447155%\n"
     ]
    }
   ],
   "source": [
    "sequence = 'ATCGATCGATCGATCGACTGACTAGTCATAGCTATGCATGTAGCTACTCGATCGATCGATCGATCGATCGATCGATCGATCGATCATGCTATCATCGATCGATATCGATGCATCGACTACTAT'\n",
    "exon1 = sequence[:63]\n",
    "exon2 = sequence[91:]\n",
    "\n",
    "#CG content\n",
    "content = (sequence.count('C') + sequence.count('G')) * 100 /len(sequence)\n",
    "print('Content of CG in the sequence is ' + str(content) + '%') #make content into a string to prevent error"
   ]
  },
  {
   "cell_type": "code",
   "execution_count": 53,
   "metadata": {},
   "outputs": [
    {
     "name": "stdout",
     "output_type": "stream",
     "text": [
      "Coding regions are the exons. \n",
      " Exon 1: ATCGATCGATCGATCGACTGACTAGTCATAGCTATGCATGTAGCTACTCGATCGATCGATCGA\n",
      " Exon 2: TCATCGATCGATATCGATGCATCGACTACTAT\n"
     ]
    }
   ],
   "source": [
    "#Printing out coding regions\n",
    "print('Coding regions are the exons. \\n Exon 1: ' + exon1 + '\\n Exon 2: ' + exon2)\n",
    "#\\n to make a new line. This makes the output look more organized"
   ]
  },
  {
   "cell_type": "code",
   "execution_count": 54,
   "metadata": {},
   "outputs": [
    {
     "name": "stdout",
     "output_type": "stream",
     "text": [
      "The percentage of the DNA sequence that is coding is 77.23577235772358%\n"
     ]
    }
   ],
   "source": [
    "#Printing percentage of coding sequence\n",
    "exoncontent = (len(exon1) + len(exon2)) * 100/len(sequence)\n",
    "print('The percentage of the DNA sequence that is coding is ' + str(exoncontent) + '%')"
   ]
  },
  {
   "cell_type": "code",
   "execution_count": 55,
   "metadata": {},
   "outputs": [
    {
     "name": "stdout",
     "output_type": "stream",
     "text": [
      "This sequence demonstrates the coding regions in uppercase and noncoding regions in lowercase: \n",
      "ATCGATCGATCGATCGACTGACTAGTCATAGCTATGCATGTAGCTACTCGATCGATCGATCGAtcgatcgatcgatcgatcgatcatgctaTCATCGATCGATATCGATGCATCGACTACTAT\n"
     ]
    }
   ],
   "source": [
    "#Concatenating the coding and noncoding regions while printing\n",
    "noncoding = sequence[63:91] #extracting noncoding sequence to make it lowercase with,lower()\n",
    "print('This sequence demonstrates the coding regions in uppercase and noncoding regions in lowercase: \\n' + exon1 + noncoding.lower()+ exon2)"
   ]
  },
  {
   "cell_type": "markdown",
   "metadata": {},
   "source": [
    "#### List Comprehension \n",
    "* Create a list of your current courses (e.g. “Bio 184”).  Use a for loop to display each course in a separate sentence such as “I am taking Bio 184 this semester.”"
   ]
  },
  {
   "cell_type": "code",
   "execution_count": 56,
   "metadata": {},
   "outputs": [
    {
     "name": "stdout",
     "output_type": "stream",
     "text": [
      "I am taking BIO 184 this semester.\n",
      "I am taking ECON 1 this semester.\n",
      "I am taking MATH 146 this semester.\n",
      "I am taking MATH 150 this semester.\n"
     ]
    }
   ],
   "source": [
    "#Practicing for loops\n",
    "list = ['BIO 184', 'ECON 1', 'MATH 146', 'MATH 150'] #elements in array as strings\n",
    "for course in list:\n",
    "    print('I am taking ' + course + ' this semester.')\n"
   ]
  },
  {
   "cell_type": "markdown",
   "metadata": {},
   "source": [
    "#### Write a FATSA file\n",
    "\n",
    "Use the following information\n",
    "1. Header: ABC123 Sequence: ATCGTACGATCGATCGATCGCTAGACGTATCG\n",
    "2. Header: DEF456 Sequence: actgatcgacgatcgatcgatcacgact\n",
    "3. Header: HIJ789 Sequence: ACTGAC-ACTGT--ACTGTA----CATGTG"
   ]
  },
  {
   "cell_type": "code",
   "execution_count": 85,
   "metadata": {},
   "outputs": [],
   "source": [
    "outputname = open(\"Homework 2.fasta\", \"w\")\n",
    "header = ['ABC123','DEF456','HIJ789']\n",
    "sequences = ['ATCGTACGATCGATCGATCGCTAGACGTATCG', 'actgatcgacgatcgatcgatcacgact','ACTGAC-ACTGT--ACTGTA----CATGTG']\n",
    "for i in range(0,3):\n",
    "    sequence = sequences[i].upper()\n",
    "    sequence = sequence.replace('-','m')\n",
    "    outputname.write('>sequence\\t'+str(i+1)+'\\t '+header[i]+ '\\n'+sequence+'\\n')\n",
    "outputname.close() "
   ]
  },
  {
   "cell_type": "markdown",
   "metadata": {},
   "source": [
    "#### Processing DNA in a file\n",
    "*  The file input.txt contains several DNA sequences, one per line. Each sequence starts with the same 14 base pair fragment – a sequencing adapter that should have been removed. \n",
    "\n",
    "Write Python code that will\n",
    "1.\ttrim off those first 14 characters of each sequence\n",
    "2.\tprint the length of the sequence (after trimming)\n",
    "3.\tinclude a tab character (“\\t”)\n",
    "4.\tprint trimmed sequence\n",
    "\n",
    "That is, your code should take all the sequences in input.txt, perform the cleaning procedure above, and output all of the sequences in the desired format.\n"
   ]
  },
  {
   "cell_type": "code",
   "execution_count": 100,
   "metadata": {
    "scrolled": true
   },
   "outputs": [
    {
     "name": "stdout",
     "output_type": "stream",
     "text": [
      "ATTCGATTATAAGCTCGATCGATCGATCGATCGATCGATCGATCGATCGATCGATC\n",
      "ATTCGATTATAAGCACTGATCGATCGATCGATCGATCGATGCTATCGTCGT\n",
      "ATTCGATTATAAGCATCGATCACGATCTATCGTACGTATGCATATCGATATCGATCGTAGTC\n",
      "ATTCGATTATAAGCACTATCGATGATCTAGCTACGATCGTAGCTGTA\n",
      "ATTCGATTATAAGCACTAGCTAGTCTCGATGCATGATCAGCTTAGCTGATGATGCTATGCA\n"
     ]
    }
   ],
   "source": [
    "#reading the textfile\n",
    "processing = open('input.txt').read()\n",
    "open('input.txt').close() #Making sure I close it\n",
    "print(processing) #printing the string to see what I am working with"
   ]
  },
  {
   "cell_type": "code",
   "execution_count": 110,
   "metadata": {},
   "outputs": [
    {
     "name": "stdout",
     "output_type": "stream",
     "text": [
      "Length: 42, Sequence: TCGATCGATCGATCGATCGATCGATCGATCGATCGATCGATC\n",
      "Length: 37, Sequence: ACTGATCGATCGATCGATCGATCGATGCTATCGTCGT\n",
      "Length: 48, Sequence: ATCGATCACGATCTATCGTACGTATGCATATCGATATCGATCGTAGTC\n",
      "Length: 33, Sequence: ACTATCGATGATCTAGCTACGATCGTAGCTGTA\n",
      "Length: 47, Sequence: ACTAGCTAGTCTCGATGCATGATCAGCTTAGCTGATGATGCTATGCA\n"
     ]
    }
   ],
   "source": [
    "#processing is a string. I can make it to an array by splitting the string wherever it has a new line\n",
    "array = processing.split('\\n')\n",
    "#Using for loop to modify each sequence\n",
    "for i in range(0,len(array)):\n",
    "    array[i] = array[i][14:] #taking off the first 14 characters\n",
    "    print('Length: '+ str(len(array[i])) + ', Sequence: ' + array[i]) #printing in desired format\n"
   ]
  }
 ],
 "metadata": {
  "kernelspec": {
   "display_name": "Python 3",
   "language": "python",
   "name": "python3"
  },
  "language_info": {
   "codemirror_mode": {
    "name": "ipython",
    "version": 3
   },
   "file_extension": ".py",
   "mimetype": "text/x-python",
   "name": "python",
   "nbconvert_exporter": "python",
   "pygments_lexer": "ipython3",
   "version": "3.6.4"
  }
 },
 "nbformat": 4,
 "nbformat_minor": 2
}
